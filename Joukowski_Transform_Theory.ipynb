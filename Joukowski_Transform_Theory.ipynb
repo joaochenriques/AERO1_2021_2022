{
  "nbformat": 4,
  "nbformat_minor": 0,
  "metadata": {
    "colab": {
      "name": "Joukowski_Transform_Theory.ipynb",
      "provenance": [],
      "authorship_tag": "ABX9TyPMUjiawis+jtg5xjtJCuDQ",
      "include_colab_link": true
    },
    "kernelspec": {
      "name": "python3",
      "display_name": "Python 3"
    },
    "language_info": {
      "name": "python"
    }
  },
  "cells": [
    {
      "cell_type": "markdown",
      "metadata": {
        "id": "view-in-github",
        "colab_type": "text"
      },
      "source": [
        "<a href=\"https://colab.research.google.com/github/joaochenriques/AERO1_2021_2022/blob/main/Joukowski_Transform_Theory.ipynb\" target=\"_parent\"><img src=\"https://colab.research.google.com/assets/colab-badge.svg\" alt=\"Open In Colab\"/></a>"
      ]
    },
    {
      "cell_type": "markdown",
      "metadata": {
        "id": "Og24nu2J4vaB"
      },
      "source": [
        "# **Joukowski Transform**"
      ]
    },
    {
      "cell_type": "code",
      "metadata": {
        "id": "KT40vnKy4v_H"
      },
      "source": [
        "from sympy import *\n",
        "import numpy as np\n",
        "import matplotlib.pyplot as mpl\n",
        "from IPython.display import display, Math\n",
        "mpl.rcParams[\"figure.figsize\"] = (5, 5)\n",
        "%config InlineBackend.figure_formats = ['svg']"
      ],
      "execution_count": 1,
      "outputs": []
    },
    {
      "cell_type": "code",
      "metadata": {
        "id": "EwpMmFOT5AKU"
      },
      "source": [
        "α, β, θ, 𝜋, ξ, ζ, ρ, Δr, Δi = symbols( r\"\\alpha, \\beta, \\theta, \\pi, \\xi, \\zeta, \\rho, \\Delta{r}, \\Delta{i}\" )\n",
        "a, c, CL, Cp = symbols( r\"a, c, C_\\mathrm{L}, C_\\mathrm{p}\" )\n",
        "Uζ = symbols( r\"U_{\\zeta}\" )"
      ],
      "execution_count": 8,
      "outputs": []
    },
    {
      "cell_type": "code",
      "metadata": {
        "colab": {
          "base_uri": "https://localhost:8080/",
          "height": 57
        },
        "id": "NdEqsPTR5yST",
        "outputId": "f6a5bdde-0df0-4b8b-82ee-69f0165b4a88"
      },
      "source": [
        "Wξ = exp( -I*α ) * ξ + exp( -I*α ) * a**2 / ξ + I * 2 * a * sin( α + β) * ln( ξ )\n",
        "Wξ"
      ],
      "execution_count": 3,
      "outputs": [
        {
          "output_type": "execute_result",
          "data": {
            "text/latex": "$\\displaystyle \\xi e^{- i \\alpha} + 2 i a \\log{\\left(\\xi \\right)} \\sin{\\left(\\alpha + \\beta \\right)} + \\frac{a^{2} e^{- i \\alpha}}{\\xi}$",
            "text/plain": [
              "\\xi*exp(-I*\\alpha) + 2*I*a*log(\\xi)*sin(\\alpha + \\beta) + a**2*exp(-I*\\alpha)/\\xi"
            ]
          },
          "metadata": {},
          "execution_count": 3
        }
      ]
    },
    {
      "cell_type": "code",
      "metadata": {
        "colab": {
          "base_uri": "https://localhost:8080/",
          "height": 57
        },
        "id": "PFhEYuLa6oCy",
        "outputId": "7ed1d841-46ed-4ea5-cb1e-bef502314f51"
      },
      "source": [
        "Wζ = Wξ.subs( ξ, ζ-c )\n",
        "Wζ"
      ],
      "execution_count": 10,
      "outputs": [
        {
          "output_type": "execute_result",
          "data": {
            "text/latex": "$\\displaystyle \\frac{a^{2} e^{- i \\alpha}}{\\zeta - c} + 2 i a \\log{\\left(\\zeta - c \\right)} \\sin{\\left(\\alpha + \\beta \\right)} + \\left(\\zeta - c\\right) e^{- i \\alpha}$",
            "text/plain": [
              "a**2*exp(-I*\\alpha)/(\\zeta - c) + 2*I*a*log(\\zeta - c)*sin(\\alpha + \\beta) + (\\zeta - c)*exp(-I*\\alpha)"
            ]
          },
          "metadata": {},
          "execution_count": 10
        }
      ]
    },
    {
      "cell_type": "code",
      "metadata": {
        "colab": {
          "base_uri": "https://localhost:8080/",
          "height": 61
        },
        "id": "7yhbl-jK6sIP",
        "outputId": "45f5f85c-368b-40a8-d0e6-f9ad44cfa48f"
      },
      "source": [
        "Eq( Uζ, Wζ.diff( ζ ) )"
      ],
      "execution_count": 16,
      "outputs": [
        {
          "output_type": "execute_result",
          "data": {
            "text/latex": "$\\displaystyle U_{\\zeta} = - \\frac{a^{2} e^{- i \\alpha}}{\\left(\\zeta - c\\right)^{2}} + \\frac{2 i a \\sin{\\left(\\alpha + \\beta \\right)}}{\\zeta - c} + e^{- i \\alpha}$",
            "text/plain": [
              "Eq(U_{\\zeta}, -a**2*exp(-I*\\alpha)/(\\zeta - c)**2 + 2*I*a*sin(\\alpha + \\beta)/(\\zeta - c) + exp(-I*\\alpha))"
            ]
          },
          "metadata": {},
          "execution_count": 16
        }
      ]
    },
    {
      "cell_type": "code",
      "metadata": {
        "colab": {
          "base_uri": "https://localhost:8080/",
          "height": 71
        },
        "id": "UdmBbsnG7uQq",
        "outputId": "77c7e5e5-4026-4543-8b76-25dd0f995db3"
      },
      "source": [
        "Cp = 1 - abs( Uζ )**2\n",
        "Cp"
      ],
      "execution_count": 36,
      "outputs": [
        {
          "output_type": "execute_result",
          "data": {
            "text/latex": "$\\displaystyle 1 - \\left|{- \\frac{a^{2} e^{- i \\alpha}}{\\left(\\zeta - c\\right)^{2}} + \\frac{2 i a \\sin{\\left(\\alpha + \\beta \\right)}}{\\zeta - c} + e^{- i \\alpha}}\\right|^{2}$",
            "text/plain": [
              "1 - Abs(-a**2*exp(-I*\\alpha)/(\\zeta - c)**2 + 2*I*a*sin(\\alpha + \\beta)/(\\zeta - c) + exp(-I*\\alpha))**2"
            ]
          },
          "metadata": {},
          "execution_count": 36
        }
      ]
    },
    {
      "cell_type": "code",
      "metadata": {
        "colab": {
          "base_uri": "https://localhost:8080/",
          "height": 38
        },
        "id": "eLC8ktMc7-kQ",
        "outputId": "dfc74aad-0734-49a5-a4c3-35150a13f9e4"
      },
      "source": [
        "Uζ.subs( c, Δr + Δi*I )"
      ],
      "execution_count": 17,
      "outputs": [
        {
          "output_type": "execute_result",
          "data": {
            "text/latex": "$\\displaystyle U_{\\zeta}$",
            "text/plain": [
              "U_{\\zeta}"
            ]
          },
          "metadata": {},
          "execution_count": 17
        }
      ]
    },
    {
      "cell_type": "code",
      "metadata": {
        "colab": {
          "base_uri": "https://localhost:8080/",
          "height": 48
        },
        "id": "Egsmzg5k-GE5",
        "outputId": "8b5f7418-4a56-46c7-8d60-04590ffbbf82"
      },
      "source": [
        "a = sqrt( (1-Δr)**2 + Δi**2 )\n",
        "a"
      ],
      "execution_count": 25,
      "outputs": [
        {
          "output_type": "execute_result",
          "data": {
            "text/latex": "$\\displaystyle \\sqrt{\\Delta{i}^{2} + \\left(1 - \\Delta{r}\\right)^{2}}$",
            "text/plain": [
              "sqrt(\\Delta{i}**2 + (1 - \\Delta{r})**2)"
            ]
          },
          "metadata": {},
          "execution_count": 25
        }
      ]
    },
    {
      "cell_type": "code",
      "metadata": {
        "colab": {
          "base_uri": "https://localhost:8080/",
          "height": 38
        },
        "id": "98ZB6ZLb_LKP",
        "outputId": "19398bb7-d3e8-40e5-a85f-79ab3b5ba49e"
      },
      "source": [
        "β = atan2( Δi, (1-Δr) )\n",
        "β"
      ],
      "execution_count": 28,
      "outputs": [
        {
          "output_type": "execute_result",
          "data": {
            "text/latex": "$\\displaystyle \\operatorname{atan_{2}}{\\left(\\Delta{i},1 - \\Delta{r} \\right)}$",
            "text/plain": [
              "atan2(\\Delta{i}, 1 - \\Delta{r})"
            ]
          },
          "metadata": {},
          "execution_count": 28
        }
      ]
    },
    {
      "cell_type": "code",
      "metadata": {
        "id": "MOJ7ok4U_Y8Y"
      },
      "source": [
        ""
      ],
      "execution_count": null,
      "outputs": []
    }
  ]
}