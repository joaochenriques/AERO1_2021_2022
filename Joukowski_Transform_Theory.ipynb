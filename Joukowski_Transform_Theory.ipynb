{
  "nbformat": 4,
  "nbformat_minor": 0,
  "metadata": {
    "colab": {
      "name": "Joukowski_Transform_Theory.ipynb",
      "provenance": [],
      "authorship_tag": "ABX9TyO3o+JmzPqgVtHx7Rth+WfC",
      "include_colab_link": true
    },
    "kernelspec": {
      "name": "python3",
      "display_name": "Python 3"
    },
    "language_info": {
      "name": "python"
    }
  },
  "cells": [
    {
      "cell_type": "markdown",
      "metadata": {
        "id": "view-in-github",
        "colab_type": "text"
      },
      "source": [
        "<a href=\"https://colab.research.google.com/github/joaochenriques/AERO1_2021_2022/blob/main/Joukowski_Transform_Theory.ipynb\" target=\"_parent\"><img src=\"https://colab.research.google.com/assets/colab-badge.svg\" alt=\"Open In Colab\"/></a>"
      ]
    },
    {
      "cell_type": "markdown",
      "metadata": {
        "id": "Og24nu2J4vaB"
      },
      "source": [
        "# **Joukowski Transform**"
      ]
    },
    {
      "cell_type": "code",
      "metadata": {
        "id": "KT40vnKy4v_H"
      },
      "source": [
        "from sympy import *\n",
        "import numpy as np\n",
        "import matplotlib.pyplot as mpl\n",
        "from IPython.display import display, Math\n",
        "mpl.rcParams[\"figure.figsize\"] = (5, 5)\n",
        "%config InlineBackend.figure_formats = ['svg']"
      ],
      "execution_count": 1,
      "outputs": []
    },
    {
      "cell_type": "code",
      "metadata": {
        "id": "EwpMmFOT5AKU"
      },
      "source": [
        "α, β, θ, 𝜋, ξ, ζ, ρ, Δr, Δi = symbols( r\"\\alpha, \\beta, \\theta, \\pi, \\xi, \\zeta, \\rho, \\Delta{r}, \\Delta{i}\" )\n",
        "a, c, CL, Cp = symbols( r\"a, c, C_\\mathrm{L}, C_\\mathrm{p}\" )\n",
        "Uζ = symbols( r\"U_{\\zeta}\" )"
      ],
      "execution_count": 8,
      "outputs": []
    },
    {
      "cell_type": "code",
      "metadata": {
        "colab": {
          "base_uri": "https://localhost:8080/",
          "height": 57
        },
        "id": "NdEqsPTR5yST",
        "outputId": "f6a5bdde-0df0-4b8b-82ee-69f0165b4a88"
      },
      "source": [
        "Wξ = exp( -I*α ) * ξ + exp( -I*α ) * a**2 / ξ + I * 2 * a * sin( α + β) * ln( ξ )\n",
        "Wξ"
      ],
      "execution_count": 3,
      "outputs": [
        {
          "output_type": "execute_result",
          "data": {
            "text/latex": "$\\displaystyle \\xi e^{- i \\alpha} + 2 i a \\log{\\left(\\xi \\right)} \\sin{\\left(\\alpha + \\beta \\right)} + \\frac{a^{2} e^{- i \\alpha}}{\\xi}$",
            "text/plain": [
              "\\xi*exp(-I*\\alpha) + 2*I*a*log(\\xi)*sin(\\alpha + \\beta) + a**2*exp(-I*\\alpha)/\\xi"
            ]
          },
          "metadata": {},
          "execution_count": 3
        }
      ]
    },
    {
      "cell_type": "code",
      "metadata": {
        "colab": {
          "base_uri": "https://localhost:8080/",
          "height": 57
        },
        "id": "PFhEYuLa6oCy",
        "outputId": "7ed1d841-46ed-4ea5-cb1e-bef502314f51"
      },
      "source": [
        "Wζ = Wξ.subs( ξ, ζ-c )\n",
        "Wζ"
      ],
      "execution_count": 10,
      "outputs": [
        {
          "output_type": "execute_result",
          "data": {
            "text/latex": "$\\displaystyle \\frac{a^{2} e^{- i \\alpha}}{\\zeta - c} + 2 i a \\log{\\left(\\zeta - c \\right)} \\sin{\\left(\\alpha + \\beta \\right)} + \\left(\\zeta - c\\right) e^{- i \\alpha}$",
            "text/plain": [
              "a**2*exp(-I*\\alpha)/(\\zeta - c) + 2*I*a*log(\\zeta - c)*sin(\\alpha + \\beta) + (\\zeta - c)*exp(-I*\\alpha)"
            ]
          },
          "metadata": {},
          "execution_count": 10
        }
      ]
    },
    {
      "cell_type": "code",
      "metadata": {
        "colab": {
          "base_uri": "https://localhost:8080/",
          "height": 61
        },
        "id": "7yhbl-jK6sIP",
        "outputId": "db5d9057-0cc4-4ff3-cf49-aa0605623bb9"
      },
      "source": [
        "Eq1 = Eq( Uζ, Wζ.diff( ζ ) )\n",
        "Eq1"
      ],
      "execution_count": 22,
      "outputs": [
        {
          "output_type": "execute_result",
          "data": {
            "text/latex": "$\\displaystyle U_{\\zeta} = - \\frac{a^{2} e^{- i \\alpha}}{\\left(\\zeta - c\\right)^{2}} + \\frac{2 i a \\sin{\\left(\\alpha + \\beta \\right)}}{\\zeta - c} + e^{- i \\alpha}$",
            "text/plain": [
              "Eq(U_{\\zeta}, -a**2*exp(-I*\\alpha)/(\\zeta - c)**2 + 2*I*a*sin(\\alpha + \\beta)/(\\zeta - c) + exp(-I*\\alpha))"
            ]
          },
          "metadata": {},
          "execution_count": 22
        }
      ]
    },
    {
      "cell_type": "code",
      "metadata": {
        "colab": {
          "base_uri": "https://localhost:8080/",
          "height": 97
        },
        "id": "eLC8ktMc7-kQ",
        "outputId": "4e75d48f-70a7-41ec-c05a-8b1fbc989267"
      },
      "source": [
        "repl_defs = { a: sqrt( (1-Δr)**2 + Δi**2 ), c: Δr + Δi*I, β: atan2( Δi, (1-Δr) ), ζ: a*exp( I*θ ) }\n",
        "\n",
        "Eq3 = Eq1.subs( repl_defs )\n",
        "Eq3"
      ],
      "execution_count": 47,
      "outputs": [
        {
          "output_type": "execute_result",
          "data": {
            "text/latex": "$\\displaystyle U_{\\zeta} = \\frac{2 i \\sqrt{\\Delta{i}^{2} + \\left(1 - \\Delta{r}\\right)^{2}} \\sin{\\left(\\alpha + \\operatorname{atan_{2}}{\\left(\\Delta{i},1 - \\Delta{r} \\right)} \\right)}}{- i \\Delta{i} - \\Delta{r} + \\sqrt{\\Delta{i}^{2} + \\left(1 - \\Delta{r}\\right)^{2}} e^{i \\theta}} - \\frac{\\left(\\Delta{i}^{2} + \\left(1 - \\Delta{r}\\right)^{2}\\right) e^{- i \\alpha}}{\\left(- i \\Delta{i} - \\Delta{r} + \\sqrt{\\Delta{i}^{2} + \\left(1 - \\Delta{r}\\right)^{2}} e^{i \\theta}\\right)^{2}} + e^{- i \\alpha}$",
            "text/plain": [
              "Eq(U_{\\zeta}, 2*I*sqrt(\\Delta{i}**2 + (1 - \\Delta{r})**2)*sin(\\alpha + atan2(\\Delta{i}, 1 - \\Delta{r}))/(-I*\\Delta{i} - \\Delta{r} + sqrt(\\Delta{i}**2 + (1 - \\Delta{r})**2)*exp(I*\\theta)) - (\\Delta{i}**2 + (1 - \\Delta{r})**2)*exp(-I*\\alpha)/(-I*\\Delta{i} - \\Delta{r} + sqrt(\\Delta{i}**2 + (1 - \\Delta{r})**2)*exp(I*\\theta))**2 + exp(-I*\\alpha))"
            ]
          },
          "metadata": {},
          "execution_count": 47
        }
      ]
    },
    {
      "cell_type": "code",
      "metadata": {
        "colab": {
          "base_uri": "https://localhost:8080/",
          "height": 98
        },
        "id": "R-Na9sYOFyGY",
        "outputId": "249ae044-c470-4849-9568-52234c798344"
      },
      "source": [
        "repl_data = { Δr: -0.1, Δi: 0.1, α:6*pi/180.0 }\n",
        "Eq4 = Eq3.subs( repl_data )\n",
        "Eq4"
      ],
      "execution_count": 48,
      "outputs": [
        {
          "output_type": "execute_result",
          "data": {
            "text/latex": "$\\displaystyle U_{\\zeta} = e^{- 0.0333333333333333 i \\pi} + \\frac{2.20907220343745 i \\sin{\\left(0.0906598872007451 + 0.0333333333333333 \\pi \\right)}}{1.10453610171873 e^{i \\theta} + 0.1 - 0.1 i} - \\frac{1.0 e^{- 0.0333333333333333 i \\pi}}{\\left(e^{i \\theta} + 0.0905357460425185 - 0.0905357460425185 i\\right)^{2}}$",
            "text/plain": [
              "Eq(U_{\\zeta}, exp(-0.0333333333333333*I*pi) + 2.20907220343745*I*sin(0.0906598872007451 + 0.0333333333333333*pi)/(1.10453610171873*exp(I*\\theta) + 0.1 - 0.1*I) - 1.0*exp(-0.0333333333333333*I*pi)/(exp(I*\\theta) + 0.0905357460425185 - 0.0905357460425185*I)**2)"
            ]
          },
          "metadata": {},
          "execution_count": 48
        }
      ]
    },
    {
      "cell_type": "code",
      "metadata": {
        "id": "MOJ7ok4U_Y8Y"
      },
      "source": [
        "fUζ = lambdify( θ, Eq4.rhs, 'numpy')\n",
        "θ_vec = np.linspace( 0.0, 2*np.pi, 101 )\n",
        "Uζ_vec = fUζ(θ_vec)\n",
        "Uζ2_vec = ( Uζ_vec * np.conj(Uζ_vec) ).real"
      ],
      "execution_count": 55,
      "outputs": []
    },
    {
      "cell_type": "code",
      "metadata": {
        "colab": {
          "base_uri": "https://localhost:8080/",
          "height": 352
        },
        "id": "EXCM-obQCxQD",
        "outputId": "b4369780-4315-4f10-a4cb-11b09c2525f6"
      },
      "source": [
        "Cp = -(1.0 - Uζ2_vec)\n",
        "mpl.plot( Cp );"
      ],
      "execution_count": 56,
      "outputs": [
        {
          "output_type": "display_data",
          "data": {
            "text/plain": [
              "<Figure size 432x288 with 1 Axes>"
            ],
            "image/svg+xml": "<?xml version=\"1.0\" encoding=\"utf-8\" standalone=\"no\"?>\n<!DOCTYPE svg PUBLIC \"-//W3C//DTD SVG 1.1//EN\"\n  \"http://www.w3.org/Graphics/SVG/1.1/DTD/svg11.dtd\">\n<!-- Created with matplotlib (https://matplotlib.org/) -->\n<svg height=\"248.518125pt\" version=\"1.1\" viewBox=\"0 0 370.942187 248.518125\" width=\"370.942187pt\" xmlns=\"http://www.w3.org/2000/svg\" xmlns:xlink=\"http://www.w3.org/1999/xlink\">\n <defs>\n  <style type=\"text/css\">\n*{stroke-linecap:butt;stroke-linejoin:round;}\n  </style>\n </defs>\n <g id=\"figure_1\">\n  <g id=\"patch_1\">\n   <path d=\"M 0 248.518125 \nL 370.942187 248.518125 \nL 370.942187 0 \nL 0 0 \nz\n\" style=\"fill:none;\"/>\n  </g>\n  <g id=\"axes_1\">\n   <g id=\"patch_2\">\n    <path d=\"M 28.942188 224.64 \nL 363.742188 224.64 \nL 363.742188 7.2 \nL 28.942188 7.2 \nz\n\" style=\"fill:#ffffff;\"/>\n   </g>\n   <g id=\"matplotlib.axis_1\">\n    <g id=\"xtick_1\">\n     <g id=\"line2d_1\">\n      <defs>\n       <path d=\"M 0 0 \nL 0 3.5 \n\" id=\"m4c6404d3e1\" style=\"stroke:#000000;stroke-width:0.8;\"/>\n      </defs>\n      <g>\n       <use style=\"stroke:#000000;stroke-width:0.8;\" x=\"44.160369\" xlink:href=\"#m4c6404d3e1\" y=\"224.64\"/>\n      </g>\n     </g>\n     <g id=\"text_1\">\n      <!-- 0 -->\n      <defs>\n       <path d=\"M 31.78125 66.40625 \nQ 24.171875 66.40625 20.328125 58.90625 \nQ 16.5 51.421875 16.5 36.375 \nQ 16.5 21.390625 20.328125 13.890625 \nQ 24.171875 6.390625 31.78125 6.390625 \nQ 39.453125 6.390625 43.28125 13.890625 \nQ 47.125 21.390625 47.125 36.375 \nQ 47.125 51.421875 43.28125 58.90625 \nQ 39.453125 66.40625 31.78125 66.40625 \nz\nM 31.78125 74.21875 \nQ 44.046875 74.21875 50.515625 64.515625 \nQ 56.984375 54.828125 56.984375 36.375 \nQ 56.984375 17.96875 50.515625 8.265625 \nQ 44.046875 -1.421875 31.78125 -1.421875 \nQ 19.53125 -1.421875 13.0625 8.265625 \nQ 6.59375 17.96875 6.59375 36.375 \nQ 6.59375 54.828125 13.0625 64.515625 \nQ 19.53125 74.21875 31.78125 74.21875 \nz\n\" id=\"DejaVuSans-48\"/>\n      </defs>\n      <g transform=\"translate(40.979119 239.238437)scale(0.1 -0.1)\">\n       <use xlink:href=\"#DejaVuSans-48\"/>\n      </g>\n     </g>\n    </g>\n    <g id=\"xtick_2\">\n     <g id=\"line2d_2\">\n      <g>\n       <use style=\"stroke:#000000;stroke-width:0.8;\" x=\"105.033097\" xlink:href=\"#m4c6404d3e1\" y=\"224.64\"/>\n      </g>\n     </g>\n     <g id=\"text_2\">\n      <!-- 20 -->\n      <defs>\n       <path d=\"M 19.1875 8.296875 \nL 53.609375 8.296875 \nL 53.609375 0 \nL 7.328125 0 \nL 7.328125 8.296875 \nQ 12.9375 14.109375 22.625 23.890625 \nQ 32.328125 33.6875 34.8125 36.53125 \nQ 39.546875 41.84375 41.421875 45.53125 \nQ 43.3125 49.21875 43.3125 52.78125 \nQ 43.3125 58.59375 39.234375 62.25 \nQ 35.15625 65.921875 28.609375 65.921875 \nQ 23.96875 65.921875 18.8125 64.3125 \nQ 13.671875 62.703125 7.8125 59.421875 \nL 7.8125 69.390625 \nQ 13.765625 71.78125 18.9375 73 \nQ 24.125 74.21875 28.421875 74.21875 \nQ 39.75 74.21875 46.484375 68.546875 \nQ 53.21875 62.890625 53.21875 53.421875 \nQ 53.21875 48.921875 51.53125 44.890625 \nQ 49.859375 40.875 45.40625 35.40625 \nQ 44.1875 33.984375 37.640625 27.21875 \nQ 31.109375 20.453125 19.1875 8.296875 \nz\n\" id=\"DejaVuSans-50\"/>\n      </defs>\n      <g transform=\"translate(98.670597 239.238437)scale(0.1 -0.1)\">\n       <use xlink:href=\"#DejaVuSans-50\"/>\n       <use x=\"63.623047\" xlink:href=\"#DejaVuSans-48\"/>\n      </g>\n     </g>\n    </g>\n    <g id=\"xtick_3\">\n     <g id=\"line2d_3\">\n      <g>\n       <use style=\"stroke:#000000;stroke-width:0.8;\" x=\"165.905824\" xlink:href=\"#m4c6404d3e1\" y=\"224.64\"/>\n      </g>\n     </g>\n     <g id=\"text_3\">\n      <!-- 40 -->\n      <defs>\n       <path d=\"M 37.796875 64.3125 \nL 12.890625 25.390625 \nL 37.796875 25.390625 \nz\nM 35.203125 72.90625 \nL 47.609375 72.90625 \nL 47.609375 25.390625 \nL 58.015625 25.390625 \nL 58.015625 17.1875 \nL 47.609375 17.1875 \nL 47.609375 0 \nL 37.796875 0 \nL 37.796875 17.1875 \nL 4.890625 17.1875 \nL 4.890625 26.703125 \nz\n\" id=\"DejaVuSans-52\"/>\n      </defs>\n      <g transform=\"translate(159.543324 239.238437)scale(0.1 -0.1)\">\n       <use xlink:href=\"#DejaVuSans-52\"/>\n       <use x=\"63.623047\" xlink:href=\"#DejaVuSans-48\"/>\n      </g>\n     </g>\n    </g>\n    <g id=\"xtick_4\">\n     <g id=\"line2d_4\">\n      <g>\n       <use style=\"stroke:#000000;stroke-width:0.8;\" x=\"226.778551\" xlink:href=\"#m4c6404d3e1\" y=\"224.64\"/>\n      </g>\n     </g>\n     <g id=\"text_4\">\n      <!-- 60 -->\n      <defs>\n       <path d=\"M 33.015625 40.375 \nQ 26.375 40.375 22.484375 35.828125 \nQ 18.609375 31.296875 18.609375 23.390625 \nQ 18.609375 15.53125 22.484375 10.953125 \nQ 26.375 6.390625 33.015625 6.390625 \nQ 39.65625 6.390625 43.53125 10.953125 \nQ 47.40625 15.53125 47.40625 23.390625 \nQ 47.40625 31.296875 43.53125 35.828125 \nQ 39.65625 40.375 33.015625 40.375 \nz\nM 52.59375 71.296875 \nL 52.59375 62.3125 \nQ 48.875 64.0625 45.09375 64.984375 \nQ 41.3125 65.921875 37.59375 65.921875 \nQ 27.828125 65.921875 22.671875 59.328125 \nQ 17.53125 52.734375 16.796875 39.40625 \nQ 19.671875 43.65625 24.015625 45.921875 \nQ 28.375 48.1875 33.59375 48.1875 \nQ 44.578125 48.1875 50.953125 41.515625 \nQ 57.328125 34.859375 57.328125 23.390625 \nQ 57.328125 12.15625 50.6875 5.359375 \nQ 44.046875 -1.421875 33.015625 -1.421875 \nQ 20.359375 -1.421875 13.671875 8.265625 \nQ 6.984375 17.96875 6.984375 36.375 \nQ 6.984375 53.65625 15.1875 63.9375 \nQ 23.390625 74.21875 37.203125 74.21875 \nQ 40.921875 74.21875 44.703125 73.484375 \nQ 48.484375 72.75 52.59375 71.296875 \nz\n\" id=\"DejaVuSans-54\"/>\n      </defs>\n      <g transform=\"translate(220.416051 239.238437)scale(0.1 -0.1)\">\n       <use xlink:href=\"#DejaVuSans-54\"/>\n       <use x=\"63.623047\" xlink:href=\"#DejaVuSans-48\"/>\n      </g>\n     </g>\n    </g>\n    <g id=\"xtick_5\">\n     <g id=\"line2d_5\">\n      <g>\n       <use style=\"stroke:#000000;stroke-width:0.8;\" x=\"287.651278\" xlink:href=\"#m4c6404d3e1\" y=\"224.64\"/>\n      </g>\n     </g>\n     <g id=\"text_5\">\n      <!-- 80 -->\n      <defs>\n       <path d=\"M 31.78125 34.625 \nQ 24.75 34.625 20.71875 30.859375 \nQ 16.703125 27.09375 16.703125 20.515625 \nQ 16.703125 13.921875 20.71875 10.15625 \nQ 24.75 6.390625 31.78125 6.390625 \nQ 38.8125 6.390625 42.859375 10.171875 \nQ 46.921875 13.96875 46.921875 20.515625 \nQ 46.921875 27.09375 42.890625 30.859375 \nQ 38.875 34.625 31.78125 34.625 \nz\nM 21.921875 38.8125 \nQ 15.578125 40.375 12.03125 44.71875 \nQ 8.5 49.078125 8.5 55.328125 \nQ 8.5 64.0625 14.71875 69.140625 \nQ 20.953125 74.21875 31.78125 74.21875 \nQ 42.671875 74.21875 48.875 69.140625 \nQ 55.078125 64.0625 55.078125 55.328125 \nQ 55.078125 49.078125 51.53125 44.71875 \nQ 48 40.375 41.703125 38.8125 \nQ 48.828125 37.15625 52.796875 32.3125 \nQ 56.78125 27.484375 56.78125 20.515625 \nQ 56.78125 9.90625 50.3125 4.234375 \nQ 43.84375 -1.421875 31.78125 -1.421875 \nQ 19.734375 -1.421875 13.25 4.234375 \nQ 6.78125 9.90625 6.78125 20.515625 \nQ 6.78125 27.484375 10.78125 32.3125 \nQ 14.796875 37.15625 21.921875 38.8125 \nz\nM 18.3125 54.390625 \nQ 18.3125 48.734375 21.84375 45.5625 \nQ 25.390625 42.390625 31.78125 42.390625 \nQ 38.140625 42.390625 41.71875 45.5625 \nQ 45.3125 48.734375 45.3125 54.390625 \nQ 45.3125 60.0625 41.71875 63.234375 \nQ 38.140625 66.40625 31.78125 66.40625 \nQ 25.390625 66.40625 21.84375 63.234375 \nQ 18.3125 60.0625 18.3125 54.390625 \nz\n\" id=\"DejaVuSans-56\"/>\n      </defs>\n      <g transform=\"translate(281.288778 239.238437)scale(0.1 -0.1)\">\n       <use xlink:href=\"#DejaVuSans-56\"/>\n       <use x=\"63.623047\" xlink:href=\"#DejaVuSans-48\"/>\n      </g>\n     </g>\n    </g>\n    <g id=\"xtick_6\">\n     <g id=\"line2d_6\">\n      <g>\n       <use style=\"stroke:#000000;stroke-width:0.8;\" x=\"348.524006\" xlink:href=\"#m4c6404d3e1\" y=\"224.64\"/>\n      </g>\n     </g>\n     <g id=\"text_6\">\n      <!-- 100 -->\n      <defs>\n       <path d=\"M 12.40625 8.296875 \nL 28.515625 8.296875 \nL 28.515625 63.921875 \nL 10.984375 60.40625 \nL 10.984375 69.390625 \nL 28.421875 72.90625 \nL 38.28125 72.90625 \nL 38.28125 8.296875 \nL 54.390625 8.296875 \nL 54.390625 0 \nL 12.40625 0 \nz\n\" id=\"DejaVuSans-49\"/>\n      </defs>\n      <g transform=\"translate(338.980256 239.238437)scale(0.1 -0.1)\">\n       <use xlink:href=\"#DejaVuSans-49\"/>\n       <use x=\"63.623047\" xlink:href=\"#DejaVuSans-48\"/>\n       <use x=\"127.246094\" xlink:href=\"#DejaVuSans-48\"/>\n      </g>\n     </g>\n    </g>\n   </g>\n   <g id=\"matplotlib.axis_2\">\n    <g id=\"ytick_1\">\n     <g id=\"line2d_7\">\n      <defs>\n       <path d=\"M 0 0 \nL -3.5 0 \n\" id=\"m72d45663cb\" style=\"stroke:#000000;stroke-width:0.8;\"/>\n      </defs>\n      <g>\n       <use style=\"stroke:#000000;stroke-width:0.8;\" x=\"28.942188\" xlink:href=\"#m72d45663cb\" y=\"215.300494\"/>\n      </g>\n     </g>\n     <g id=\"text_7\">\n      <!-- −1 -->\n      <defs>\n       <path d=\"M 10.59375 35.5 \nL 73.1875 35.5 \nL 73.1875 27.203125 \nL 10.59375 27.203125 \nz\n\" id=\"DejaVuSans-8722\"/>\n      </defs>\n      <g transform=\"translate(7.2 219.099713)scale(0.1 -0.1)\">\n       <use xlink:href=\"#DejaVuSans-8722\"/>\n       <use x=\"83.789062\" xlink:href=\"#DejaVuSans-49\"/>\n      </g>\n     </g>\n    </g>\n    <g id=\"ytick_2\">\n     <g id=\"line2d_8\">\n      <g>\n       <use style=\"stroke:#000000;stroke-width:0.8;\" x=\"28.942188\" xlink:href=\"#m72d45663cb\" y=\"187.292783\"/>\n      </g>\n     </g>\n     <g id=\"text_8\">\n      <!-- 0 -->\n      <g transform=\"translate(15.579688 191.092002)scale(0.1 -0.1)\">\n       <use xlink:href=\"#DejaVuSans-48\"/>\n      </g>\n     </g>\n    </g>\n    <g id=\"ytick_3\">\n     <g id=\"line2d_9\">\n      <g>\n       <use style=\"stroke:#000000;stroke-width:0.8;\" x=\"28.942188\" xlink:href=\"#m72d45663cb\" y=\"159.285073\"/>\n      </g>\n     </g>\n     <g id=\"text_9\">\n      <!-- 1 -->\n      <g transform=\"translate(15.579688 163.084291)scale(0.1 -0.1)\">\n       <use xlink:href=\"#DejaVuSans-49\"/>\n      </g>\n     </g>\n    </g>\n    <g id=\"ytick_4\">\n     <g id=\"line2d_10\">\n      <g>\n       <use style=\"stroke:#000000;stroke-width:0.8;\" x=\"28.942188\" xlink:href=\"#m72d45663cb\" y=\"131.277362\"/>\n      </g>\n     </g>\n     <g id=\"text_10\">\n      <!-- 2 -->\n      <g transform=\"translate(15.579688 135.076581)scale(0.1 -0.1)\">\n       <use xlink:href=\"#DejaVuSans-50\"/>\n      </g>\n     </g>\n    </g>\n    <g id=\"ytick_5\">\n     <g id=\"line2d_11\">\n      <g>\n       <use style=\"stroke:#000000;stroke-width:0.8;\" x=\"28.942188\" xlink:href=\"#m72d45663cb\" y=\"103.269651\"/>\n      </g>\n     </g>\n     <g id=\"text_11\">\n      <!-- 3 -->\n      <defs>\n       <path d=\"M 40.578125 39.3125 \nQ 47.65625 37.796875 51.625 33 \nQ 55.609375 28.21875 55.609375 21.1875 \nQ 55.609375 10.40625 48.1875 4.484375 \nQ 40.765625 -1.421875 27.09375 -1.421875 \nQ 22.515625 -1.421875 17.65625 -0.515625 \nQ 12.796875 0.390625 7.625 2.203125 \nL 7.625 11.71875 \nQ 11.71875 9.328125 16.59375 8.109375 \nQ 21.484375 6.890625 26.8125 6.890625 \nQ 36.078125 6.890625 40.9375 10.546875 \nQ 45.796875 14.203125 45.796875 21.1875 \nQ 45.796875 27.640625 41.28125 31.265625 \nQ 36.765625 34.90625 28.71875 34.90625 \nL 20.21875 34.90625 \nL 20.21875 43.015625 \nL 29.109375 43.015625 \nQ 36.375 43.015625 40.234375 45.921875 \nQ 44.09375 48.828125 44.09375 54.296875 \nQ 44.09375 59.90625 40.109375 62.90625 \nQ 36.140625 65.921875 28.71875 65.921875 \nQ 24.65625 65.921875 20.015625 65.03125 \nQ 15.375 64.15625 9.8125 62.3125 \nL 9.8125 71.09375 \nQ 15.4375 72.65625 20.34375 73.4375 \nQ 25.25 74.21875 29.59375 74.21875 \nQ 40.828125 74.21875 47.359375 69.109375 \nQ 53.90625 64.015625 53.90625 55.328125 \nQ 53.90625 49.265625 50.4375 45.09375 \nQ 46.96875 40.921875 40.578125 39.3125 \nz\n\" id=\"DejaVuSans-51\"/>\n      </defs>\n      <g transform=\"translate(15.579688 107.06887)scale(0.1 -0.1)\">\n       <use xlink:href=\"#DejaVuSans-51\"/>\n      </g>\n     </g>\n    </g>\n    <g id=\"ytick_6\">\n     <g id=\"line2d_12\">\n      <g>\n       <use style=\"stroke:#000000;stroke-width:0.8;\" x=\"28.942188\" xlink:href=\"#m72d45663cb\" y=\"75.26194\"/>\n      </g>\n     </g>\n     <g id=\"text_12\">\n      <!-- 4 -->\n      <g transform=\"translate(15.579688 79.061159)scale(0.1 -0.1)\">\n       <use xlink:href=\"#DejaVuSans-52\"/>\n      </g>\n     </g>\n    </g>\n    <g id=\"ytick_7\">\n     <g id=\"line2d_13\">\n      <g>\n       <use style=\"stroke:#000000;stroke-width:0.8;\" x=\"28.942188\" xlink:href=\"#m72d45663cb\" y=\"47.25423\"/>\n      </g>\n     </g>\n     <g id=\"text_13\">\n      <!-- 5 -->\n      <defs>\n       <path d=\"M 10.796875 72.90625 \nL 49.515625 72.90625 \nL 49.515625 64.59375 \nL 19.828125 64.59375 \nL 19.828125 46.734375 \nQ 21.96875 47.46875 24.109375 47.828125 \nQ 26.265625 48.1875 28.421875 48.1875 \nQ 40.625 48.1875 47.75 41.5 \nQ 54.890625 34.8125 54.890625 23.390625 \nQ 54.890625 11.625 47.5625 5.09375 \nQ 40.234375 -1.421875 26.90625 -1.421875 \nQ 22.3125 -1.421875 17.546875 -0.640625 \nQ 12.796875 0.140625 7.71875 1.703125 \nL 7.71875 11.625 \nQ 12.109375 9.234375 16.796875 8.0625 \nQ 21.484375 6.890625 26.703125 6.890625 \nQ 35.15625 6.890625 40.078125 11.328125 \nQ 45.015625 15.765625 45.015625 23.390625 \nQ 45.015625 31 40.078125 35.4375 \nQ 35.15625 39.890625 26.703125 39.890625 \nQ 22.75 39.890625 18.8125 39.015625 \nQ 14.890625 38.140625 10.796875 36.28125 \nz\n\" id=\"DejaVuSans-53\"/>\n      </defs>\n      <g transform=\"translate(15.579688 51.053448)scale(0.1 -0.1)\">\n       <use xlink:href=\"#DejaVuSans-53\"/>\n      </g>\n     </g>\n    </g>\n    <g id=\"ytick_8\">\n     <g id=\"line2d_14\">\n      <g>\n       <use style=\"stroke:#000000;stroke-width:0.8;\" x=\"28.942188\" xlink:href=\"#m72d45663cb\" y=\"19.246519\"/>\n      </g>\n     </g>\n     <g id=\"text_14\">\n      <!-- 6 -->\n      <g transform=\"translate(15.579688 23.045738)scale(0.1 -0.1)\">\n       <use xlink:href=\"#DejaVuSans-54\"/>\n      </g>\n     </g>\n    </g>\n   </g>\n   <g id=\"line2d_15\">\n    <path clip-path=\"url(#p8fee6cc081)\" d=\"M 44.160369 213.714863 \nL 47.204006 212.250824 \nL 50.247642 210.113745 \nL 53.291278 207.275509 \nL 56.334915 203.712942 \nL 59.378551 199.408693 \nL 62.422188 194.352194 \nL 65.465824 188.540709 \nL 68.50946 181.980441 \nL 71.553097 174.687703 \nL 74.596733 166.690108 \nL 77.640369 158.027752 \nL 80.684006 148.754359 \nL 83.727642 138.938312 \nL 86.771278 128.663525 \nL 89.814915 118.030074 \nL 92.858551 107.154493 \nL 95.902187 96.169661 \nL 98.945824 85.224163 \nL 101.98946 74.481039 \nL 105.033097 64.115829 \nL 108.076733 54.313844 \nL 111.120369 45.266608 \nL 114.164006 37.167469 \nL 117.207642 30.206422 \nL 120.251278 24.564227 \nL 123.294915 20.406009 \nL 126.338551 17.874557 \nL 129.382187 17.083636 \nL 132.425824 18.111665 \nL 135.46946 20.996161 \nL 138.513097 25.729364 \nL 141.556733 32.255427 \nL 144.600369 40.469495 \nL 147.644006 50.218917 \nL 150.687642 61.306692 \nL 153.731278 73.497094 \nL 156.774915 86.523276 \nL 159.818551 100.096475 \nL 162.862188 113.916341 \nL 165.905824 127.681785 \nL 168.94946 141.101739 \nL 171.993097 153.905195 \nL 175.036733 165.849997 \nL 178.080369 176.729938 \nL 181.124006 186.37987 \nL 184.167642 194.678699 \nL 187.211278 201.55027 \nL 190.254915 206.962297 \nL 193.298551 210.923604 \nL 196.342188 213.480007 \nL 199.385824 214.709216 \nL 202.42946 214.715127 \nL 205.473097 213.621868 \nL 208.516733 211.567906 \nL 211.560369 208.70047 \nL 214.604006 205.170474 \nL 217.647642 201.128078 \nL 220.691278 196.718949 \nL 223.734915 192.081246 \nL 226.778551 187.343309 \nL 229.822187 182.622007 \nL 232.865824 178.021673 \nL 235.90946 173.633548 \nL 238.953097 169.535653 \nL 241.996733 165.793004 \nL 245.040369 162.458092 \nL 248.084006 159.571557 \nL 251.127642 157.163002 \nL 254.171278 155.251879 \nL 257.214915 153.848422 \nL 260.258551 152.954581 \nL 263.302188 152.564932 \nL 266.345824 152.667548 \nL 269.38946 153.244818 \nL 272.433097 154.274192 \nL 275.476733 155.728871 \nL 278.520369 157.578416 \nL 281.564006 159.789297 \nL 284.607642 162.325363 \nL 287.651278 165.148267 \nL 290.694915 168.217819 \nL 293.738551 171.492293 \nL 296.782187 174.92869 \nL 299.825824 178.482958 \nL 302.86946 182.110181 \nL 305.913097 185.764741 \nL 308.956733 189.400455 \nL 312.000369 192.970705 \nL 315.044006 196.428555 \nL 318.087642 199.726863 \nL 321.131278 202.818407 \nL 324.174915 205.656012 \nL 327.218551 208.1927 \nL 330.262187 210.381858 \nL 333.305824 212.177449 \nL 336.34946 213.534244 \nL 339.393097 214.408114 \nL 342.436733 214.756364 \nL 345.480369 214.538134 \nL 348.524006 213.714863 \n\" style=\"fill:none;stroke:#1f77b4;stroke-linecap:square;stroke-width:1.5;\"/>\n   </g>\n   <g id=\"patch_3\">\n    <path d=\"M 28.942188 224.64 \nL 28.942188 7.2 \n\" style=\"fill:none;stroke:#000000;stroke-linecap:square;stroke-linejoin:miter;stroke-width:0.8;\"/>\n   </g>\n   <g id=\"patch_4\">\n    <path d=\"M 363.742188 224.64 \nL 363.742188 7.2 \n\" style=\"fill:none;stroke:#000000;stroke-linecap:square;stroke-linejoin:miter;stroke-width:0.8;\"/>\n   </g>\n   <g id=\"patch_5\">\n    <path d=\"M 28.942188 224.64 \nL 363.742188 224.64 \n\" style=\"fill:none;stroke:#000000;stroke-linecap:square;stroke-linejoin:miter;stroke-width:0.8;\"/>\n   </g>\n   <g id=\"patch_6\">\n    <path d=\"M 28.942188 7.2 \nL 363.742188 7.2 \n\" style=\"fill:none;stroke:#000000;stroke-linecap:square;stroke-linejoin:miter;stroke-width:0.8;\"/>\n   </g>\n  </g>\n </g>\n <defs>\n  <clipPath id=\"p8fee6cc081\">\n   <rect height=\"217.44\" width=\"334.8\" x=\"28.942188\" y=\"7.2\"/>\n  </clipPath>\n </defs>\n</svg>\n"
          },
          "metadata": {
            "needs_background": "light"
          }
        }
      ]
    },
    {
      "cell_type": "code",
      "metadata": {
        "id": "qXzDsL7WGPUg"
      },
      "source": [
        ""
      ],
      "execution_count": null,
      "outputs": []
    }
  ]
}