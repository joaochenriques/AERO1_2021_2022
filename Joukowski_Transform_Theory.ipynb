{
  "nbformat": 4,
  "nbformat_minor": 0,
  "metadata": {
    "colab": {
      "name": "Joukowski_Transform_Theory.ipynb",
      "provenance": [],
      "authorship_tag": "ABX9TyPm/z00a3d3B801jcVXKlKy",
      "include_colab_link": true
    },
    "kernelspec": {
      "name": "python3",
      "display_name": "Python 3"
    },
    "language_info": {
      "name": "python"
    }
  },
  "cells": [
    {
      "cell_type": "markdown",
      "metadata": {
        "id": "view-in-github",
        "colab_type": "text"
      },
      "source": [
        "<a href=\"https://colab.research.google.com/github/joaochenriques/AERO1_2021_2022/blob/main/Joukowski_Transform_Theory.ipynb\" target=\"_parent\"><img src=\"https://colab.research.google.com/assets/colab-badge.svg\" alt=\"Open In Colab\"/></a>"
      ]
    },
    {
      "cell_type": "markdown",
      "metadata": {
        "id": "Og24nu2J4vaB"
      },
      "source": [
        "# **Joukowski Transform**"
      ]
    },
    {
      "cell_type": "code",
      "metadata": {
        "id": "KT40vnKy4v_H"
      },
      "source": [
        "from sympy import *\n",
        "import numpy as np\n",
        "import matplotlib.pyplot as mpl\n",
        "from IPython.display import display, Math\n",
        "mpl.rcParams[\"figure.figsize\"] = (5, 5)\n",
        "%config InlineBackend.figure_formats = ['svg']"
      ],
      "execution_count": 1,
      "outputs": []
    },
    {
      "cell_type": "code",
      "metadata": {
        "id": "EwpMmFOT5AKU"
      },
      "source": [
        "α, β, θ, 𝜋, ξ, ζ, ρ, Δr, Δi = symbols( r\"\\alpha, \\beta, \\theta, \\pi, \\xi, \\zeta, \\rho, \\Delta{r}, \\Delta{i}\" )\n",
        "a, c, CL, Cp = symbols( r\"a, c, C_\\mathrm{L}, C_\\mathrm{p}\" )\n",
        "Uζ = symbols( r\"U_{\\zeta}\" )"
      ],
      "execution_count": 3,
      "outputs": []
    },
    {
      "cell_type": "code",
      "source": [
        "θ, Δr, Δi = symbols( r\"\\theta, \\Delta{r}, \\Delta{i}\", real=True )\n",
        "R = symbols( r\"R\", real=True )\n",
        "c = Δr + Δi * I\n",
        "ζ = R * exp( I*θ ) + c\n",
        "zs = ζ + R**2 / ζ\n",
        "simplify( zs )"
      ],
      "metadata": {
        "colab": {
          "base_uri": "https://localhost:8080/",
          "height": 55
        },
        "id": "jp2iGHQzIy9p",
        "outputId": "74582cdf-5782-48f6-f5e2-bdf7547a0f9d"
      },
      "execution_count": 20,
      "outputs": [
        {
          "output_type": "execute_result",
          "data": {
            "text/latex": "$\\displaystyle \\frac{R^{2}}{R e^{i \\theta} + i \\Delta{i} + \\Delta{r}} + R e^{i \\theta} + i \\Delta{i} + \\Delta{r}$",
            "text/plain": [
              "R**2/(R*exp(I*\\theta) + I*\\Delta{i} + \\Delta{r}) + R*exp(I*\\theta) + I*\\Delta{i} + \\Delta{r}"
            ]
          },
          "metadata": {},
          "execution_count": 20
        }
      ]
    },
    {
      "cell_type": "code",
      "source": [
        "re(zs)"
      ],
      "metadata": {
        "id": "tzLmsR0hLb3i",
        "outputId": "8d3b9b6f-95ad-45a8-bb99-39ef4b1ad7e8",
        "colab": {
          "base_uri": "https://localhost:8080/",
          "height": 60
        }
      },
      "execution_count": 21,
      "outputs": [
        {
          "output_type": "execute_result",
          "data": {
            "text/latex": "$\\displaystyle \\frac{R^{2} \\left(R \\cos{\\left(\\theta \\right)} + \\Delta{r}\\right)}{\\left(R \\sin{\\left(\\theta \\right)} + \\Delta{i}\\right)^{2} + \\left(R \\cos{\\left(\\theta \\right)} + \\Delta{r}\\right)^{2}} + R \\cos{\\left(\\theta \\right)} + \\Delta{r}$",
            "text/plain": [
              "R**2*(R*cos(\\theta) + \\Delta{r})/((R*sin(\\theta) + \\Delta{i})**2 + (R*cos(\\theta) + \\Delta{r})**2) + R*cos(\\theta) + \\Delta{r}"
            ]
          },
          "metadata": {},
          "execution_count": 21
        }
      ]
    },
    {
      "cell_type": "code",
      "source": [
        "im(zs)"
      ],
      "metadata": {
        "id": "NZ5-wdLKLbFE",
        "outputId": "e091355f-5142-4800-a84e-8e5b30fcd804",
        "colab": {
          "base_uri": "https://localhost:8080/",
          "height": 60
        }
      },
      "execution_count": 22,
      "outputs": [
        {
          "output_type": "execute_result",
          "data": {
            "text/latex": "$\\displaystyle \\frac{R^{2} \\left(- R \\sin{\\left(\\theta \\right)} - \\Delta{i}\\right)}{\\left(R \\sin{\\left(\\theta \\right)} + \\Delta{i}\\right)^{2} + \\left(R \\cos{\\left(\\theta \\right)} + \\Delta{r}\\right)^{2}} + R \\sin{\\left(\\theta \\right)} + \\Delta{i}$",
            "text/plain": [
              "R**2*(-R*sin(\\theta) - \\Delta{i})/((R*sin(\\theta) + \\Delta{i})**2 + (R*cos(\\theta) + \\Delta{r})**2) + R*sin(\\theta) + \\Delta{i}"
            ]
          },
          "metadata": {},
          "execution_count": 22
        }
      ]
    },
    {
      "cell_type": "code",
      "metadata": {
        "colab": {
          "base_uri": "https://localhost:8080/",
          "height": 57
        },
        "id": "NdEqsPTR5yST",
        "outputId": "3c754579-9905-497d-e662-a05b033c4173"
      },
      "source": [
        "Wξ = exp( -I*α ) * ξ + exp( -I*α ) * a**2 / ξ + I * 2 * a * sin( α + β) * log( ξ )\n",
        "Wξ"
      ],
      "execution_count": null,
      "outputs": [
        {
          "output_type": "execute_result",
          "data": {
            "text/latex": "$\\displaystyle \\xi e^{- i \\alpha} + 2 i a \\log{\\left(\\xi \\right)} \\sin{\\left(\\alpha + \\beta \\right)} + \\frac{a^{2} e^{- i \\alpha}}{\\xi}$",
            "text/plain": [
              "\\xi*exp(-I*\\alpha) + 2*I*a*log(\\xi)*sin(\\alpha + \\beta) + a**2*exp(-I*\\alpha)/\\xi"
            ]
          },
          "metadata": {},
          "execution_count": 3
        }
      ]
    },
    {
      "cell_type": "code",
      "metadata": {
        "colab": {
          "base_uri": "https://localhost:8080/",
          "height": 57
        },
        "id": "PFhEYuLa6oCy",
        "outputId": "43ea299a-7e49-4f9b-c4ef-f48c1c6b56a7"
      },
      "source": [
        "Wζ = Wξ.subs( ξ, ζ-c )\n",
        "Wζ"
      ],
      "execution_count": null,
      "outputs": [
        {
          "output_type": "execute_result",
          "data": {
            "text/latex": "$\\displaystyle \\frac{a^{2} e^{- i \\alpha}}{\\zeta - c} + 2 i a \\log{\\left(\\zeta - c \\right)} \\sin{\\left(\\alpha + \\beta \\right)} + \\left(\\zeta - c\\right) e^{- i \\alpha}$",
            "text/plain": [
              "a**2*exp(-I*\\alpha)/(\\zeta - c) + 2*I*a*log(\\zeta - c)*sin(\\alpha + \\beta) + (\\zeta - c)*exp(-I*\\alpha)"
            ]
          },
          "metadata": {},
          "execution_count": 4
        }
      ]
    },
    {
      "cell_type": "code",
      "metadata": {
        "colab": {
          "base_uri": "https://localhost:8080/",
          "height": 61
        },
        "id": "7yhbl-jK6sIP",
        "outputId": "1ed6aa32-46b8-41a8-9763-545e1ae5ac72"
      },
      "source": [
        "Eq1 = Eq( Uζ, Wζ.diff( ζ ) )\n",
        "Eq1"
      ],
      "execution_count": null,
      "outputs": [
        {
          "output_type": "execute_result",
          "data": {
            "text/latex": "$\\displaystyle U_{\\zeta} = - \\frac{a^{2} e^{- i \\alpha}}{\\left(\\zeta - c\\right)^{2}} + \\frac{2 i a \\sin{\\left(\\alpha + \\beta \\right)}}{\\zeta - c} + e^{- i \\alpha}$",
            "text/plain": [
              "Eq(U_{\\zeta}, -a**2*exp(-I*\\alpha)/(\\zeta - c)**2 + 2*I*a*sin(\\alpha + \\beta)/(\\zeta - c) + exp(-I*\\alpha))"
            ]
          },
          "metadata": {},
          "execution_count": 5
        }
      ]
    },
    {
      "cell_type": "code",
      "metadata": {
        "colab": {
          "base_uri": "https://localhost:8080/",
          "height": 97
        },
        "id": "eLC8ktMc7-kQ",
        "outputId": "7842e43b-5699-43ce-b4e3-674a6c753851"
      },
      "source": [
        "repl_defs = { a: sqrt( (1-Δr)**2 + Δi**2 ), c: Δr + Δi*I, β: atan2( Δi, (1-Δr) ), ζ: a*exp( I*θ ) }\n",
        "\n",
        "Eq2 = Eq1.subs( repl_defs )\n",
        "Eq2"
      ],
      "execution_count": null,
      "outputs": [
        {
          "output_type": "execute_result",
          "data": {
            "text/latex": "$\\displaystyle U_{\\zeta} = \\frac{2 i \\sqrt{\\Delta{i}^{2} + \\left(1 - \\Delta{r}\\right)^{2}} \\sin{\\left(\\alpha + \\operatorname{atan_{2}}{\\left(\\Delta{i},1 - \\Delta{r} \\right)} \\right)}}{- i \\Delta{i} - \\Delta{r} + \\sqrt{\\Delta{i}^{2} + \\left(1 - \\Delta{r}\\right)^{2}} e^{i \\theta}} - \\frac{\\left(\\Delta{i}^{2} + \\left(1 - \\Delta{r}\\right)^{2}\\right) e^{- i \\alpha}}{\\left(- i \\Delta{i} - \\Delta{r} + \\sqrt{\\Delta{i}^{2} + \\left(1 - \\Delta{r}\\right)^{2}} e^{i \\theta}\\right)^{2}} + e^{- i \\alpha}$",
            "text/plain": [
              "Eq(U_{\\zeta}, 2*I*sqrt(\\Delta{i}**2 + (1 - \\Delta{r})**2)*sin(\\alpha + atan2(\\Delta{i}, 1 - \\Delta{r}))/(-I*\\Delta{i} - \\Delta{r} + sqrt(\\Delta{i}**2 + (1 - \\Delta{r})**2)*exp(I*\\theta)) - (\\Delta{i}**2 + (1 - \\Delta{r})**2)*exp(-I*\\alpha)/(-I*\\Delta{i} - \\Delta{r} + sqrt(\\Delta{i}**2 + (1 - \\Delta{r})**2)*exp(I*\\theta))**2 + exp(-I*\\alpha))"
            ]
          },
          "metadata": {},
          "execution_count": 6
        }
      ]
    },
    {
      "cell_type": "code",
      "metadata": {
        "colab": {
          "base_uri": "https://localhost:8080/",
          "height": 98
        },
        "id": "R-Na9sYOFyGY",
        "outputId": "77929112-1617-40e1-8924-46c1c2eb742b"
      },
      "source": [
        "repl_data = { Δr: -0.1, Δi: 0.1, α:6*pi/180.0 }\n",
        "\n",
        "Eq3 = Eq2.subs( repl_data )\n",
        "Eq3"
      ],
      "execution_count": null,
      "outputs": [
        {
          "output_type": "execute_result",
          "data": {
            "text/latex": "$\\displaystyle U_{\\zeta} = e^{- 0.0333333333333333 i \\pi} + \\frac{2.20907220343745 i \\sin{\\left(0.0906598872007451 + 0.0333333333333333 \\pi \\right)}}{1.10453610171873 e^{i \\theta} + 0.1 - 0.1 i} - \\frac{1.0 e^{- 0.0333333333333333 i \\pi}}{\\left(e^{i \\theta} + 0.0905357460425185 - 0.0905357460425185 i\\right)^{2}}$",
            "text/plain": [
              "Eq(U_{\\zeta}, exp(-0.0333333333333333*I*pi) + 2.20907220343745*I*sin(0.0906598872007451 + 0.0333333333333333*pi)/(1.10453610171873*exp(I*\\theta) + 0.1 - 0.1*I) - 1.0*exp(-0.0333333333333333*I*pi)/(exp(I*\\theta) + 0.0905357460425185 - 0.0905357460425185*I)**2)"
            ]
          },
          "metadata": {},
          "execution_count": 7
        }
      ]
    },
    {
      "cell_type": "code",
      "metadata": {
        "colab": {
          "base_uri": "https://localhost:8080/",
          "height": 38
        },
        "id": "693B_b5FOAsJ",
        "outputId": "a6dcb715-73f4-46ee-f4a5-79765a835331"
      },
      "source": [
        "f = ζ + 1.0 / ζ\n",
        "fdash = f.diff( ζ ).subs( repl_defs ).subs( repl_data )\n",
        "fdash"
      ],
      "execution_count": null,
      "outputs": [
        {
          "output_type": "execute_result",
          "data": {
            "text/latex": "$\\displaystyle 1 - 0.819672131147541 e^{- 2 i \\theta}$",
            "text/plain": [
              "1 - 0.819672131147541*exp(-2*I*\\theta)"
            ]
          },
          "metadata": {},
          "execution_count": 8
        }
      ]
    },
    {
      "cell_type": "code",
      "metadata": {
        "colab": {
          "base_uri": "https://localhost:8080/",
          "height": 64
        },
        "id": "MOJ7ok4U_Y8Y",
        "outputId": "dffee638-0400-4c50-bfd9-e8527c18d076"
      },
      "source": [
        "Uz = Eq3.rhs / fdash\n",
        "Uz"
      ],
      "execution_count": null,
      "outputs": [
        {
          "output_type": "execute_result",
          "data": {
            "text/latex": "$\\displaystyle \\frac{e^{- 0.0333333333333333 i \\pi} + \\frac{2.20907220343745 i \\sin{\\left(0.0906598872007451 + 0.0333333333333333 \\pi \\right)}}{1.10453610171873 e^{i \\theta} + 0.1 - 0.1 i} - \\frac{1.0 e^{- 0.0333333333333333 i \\pi}}{\\left(e^{i \\theta} + 0.0905357460425185 - 0.0905357460425185 i\\right)^{2}}}{1 - 0.819672131147541 e^{- 2 i \\theta}}$",
            "text/plain": [
              "(exp(-0.0333333333333333*I*pi) + 2.20907220343745*I*sin(0.0906598872007451 + 0.0333333333333333*pi)/(1.10453610171873*exp(I*\\theta) + 0.1 - 0.1*I) - 1.0*exp(-0.0333333333333333*I*pi)/(exp(I*\\theta) + 0.0905357460425185 - 0.0905357460425185*I)**2)/(1 - 0.819672131147541*exp(-2*I*\\theta))"
            ]
          },
          "metadata": {},
          "execution_count": 9
        }
      ]
    },
    {
      "cell_type": "code",
      "metadata": {
        "id": "grWZ5lX6Ob3S"
      },
      "source": [
        "fUZ = lambdify( θ, Eq3.rhs / fdash, 'numpy')"
      ],
      "execution_count": null,
      "outputs": []
    },
    {
      "cell_type": "code",
      "metadata": {
        "id": "lu-Xr9-uO9YS"
      },
      "source": [
        "θ_vec = np.linspace( 0.0, 2*np.pi, 401 )\n",
        "UZ_vec = fUZ(θ_vec)\n",
        "UZ2_vec = ( UZ_vec * np.conj(UZ_vec) ).real # this vector has only real parts"
      ],
      "execution_count": null,
      "outputs": []
    },
    {
      "cell_type": "code",
      "metadata": {
        "colab": {
          "base_uri": "https://localhost:8080/",
          "height": 352
        },
        "id": "EXCM-obQCxQD",
        "outputId": "1c1e02dd-74ed-4a75-c23a-3ce4ccc6e45c"
      },
      "source": [
        "Cp = -(1.0 - UZ2_vec)\n",
        "mpl.plot( Cp );"
      ],
      "execution_count": null,
      "outputs": [
        {
          "output_type": "display_data",
          "data": {
            "text/plain": [
              "<Figure size 432x288 with 1 Axes>"
            ],
            "image/svg+xml": "<?xml version=\"1.0\" encoding=\"utf-8\" standalone=\"no\"?>\n<!DOCTYPE svg PUBLIC \"-//W3C//DTD SVG 1.1//EN\"\n  \"http://www.w3.org/Graphics/SVG/1.1/DTD/svg11.dtd\">\n<!-- Created with matplotlib (https://matplotlib.org/) -->\n<svg height=\"248.518125pt\" version=\"1.1\" viewBox=\"0 0 380.482812 248.518125\" width=\"380.482812pt\" xmlns=\"http://www.w3.org/2000/svg\" xmlns:xlink=\"http://www.w3.org/1999/xlink\">\n <defs>\n  <style type=\"text/css\">\n*{stroke-linecap:butt;stroke-linejoin:round;}\n  </style>\n </defs>\n <g id=\"figure_1\">\n  <g id=\"patch_1\">\n   <path d=\"M -0 248.518125 \nL 380.482812 248.518125 \nL 380.482812 0 \nL -0 0 \nz\n\" style=\"fill:none;\"/>\n  </g>\n  <g id=\"axes_1\">\n   <g id=\"patch_2\">\n    <path d=\"M 38.482813 224.64 \nL 373.282813 224.64 \nL 373.282813 7.2 \nL 38.482813 7.2 \nz\n\" style=\"fill:#ffffff;\"/>\n   </g>\n   <g id=\"matplotlib.axis_1\">\n    <g id=\"xtick_1\">\n     <g id=\"line2d_1\">\n      <defs>\n       <path d=\"M 0 0 \nL 0 3.5 \n\" id=\"mee0482fd46\" style=\"stroke:#000000;stroke-width:0.8;\"/>\n      </defs>\n      <g>\n       <use style=\"stroke:#000000;stroke-width:0.8;\" x=\"53.700994\" xlink:href=\"#mee0482fd46\" y=\"224.64\"/>\n      </g>\n     </g>\n     <g id=\"text_1\">\n      <!-- 0 -->\n      <defs>\n       <path d=\"M 31.78125 66.40625 \nQ 24.171875 66.40625 20.328125 58.90625 \nQ 16.5 51.421875 16.5 36.375 \nQ 16.5 21.390625 20.328125 13.890625 \nQ 24.171875 6.390625 31.78125 6.390625 \nQ 39.453125 6.390625 43.28125 13.890625 \nQ 47.125 21.390625 47.125 36.375 \nQ 47.125 51.421875 43.28125 58.90625 \nQ 39.453125 66.40625 31.78125 66.40625 \nz\nM 31.78125 74.21875 \nQ 44.046875 74.21875 50.515625 64.515625 \nQ 56.984375 54.828125 56.984375 36.375 \nQ 56.984375 17.96875 50.515625 8.265625 \nQ 44.046875 -1.421875 31.78125 -1.421875 \nQ 19.53125 -1.421875 13.0625 8.265625 \nQ 6.59375 17.96875 6.59375 36.375 \nQ 6.59375 54.828125 13.0625 64.515625 \nQ 19.53125 74.21875 31.78125 74.21875 \nz\n\" id=\"DejaVuSans-48\"/>\n      </defs>\n      <g transform=\"translate(50.519744 239.238437)scale(0.1 -0.1)\">\n       <use xlink:href=\"#DejaVuSans-48\"/>\n      </g>\n     </g>\n    </g>\n    <g id=\"xtick_2\">\n     <g id=\"line2d_2\">\n      <g>\n       <use style=\"stroke:#000000;stroke-width:0.8;\" x=\"91.746449\" xlink:href=\"#mee0482fd46\" y=\"224.64\"/>\n      </g>\n     </g>\n     <g id=\"text_2\">\n      <!-- 50 -->\n      <defs>\n       <path d=\"M 10.796875 72.90625 \nL 49.515625 72.90625 \nL 49.515625 64.59375 \nL 19.828125 64.59375 \nL 19.828125 46.734375 \nQ 21.96875 47.46875 24.109375 47.828125 \nQ 26.265625 48.1875 28.421875 48.1875 \nQ 40.625 48.1875 47.75 41.5 \nQ 54.890625 34.8125 54.890625 23.390625 \nQ 54.890625 11.625 47.5625 5.09375 \nQ 40.234375 -1.421875 26.90625 -1.421875 \nQ 22.3125 -1.421875 17.546875 -0.640625 \nQ 12.796875 0.140625 7.71875 1.703125 \nL 7.71875 11.625 \nQ 12.109375 9.234375 16.796875 8.0625 \nQ 21.484375 6.890625 26.703125 6.890625 \nQ 35.15625 6.890625 40.078125 11.328125 \nQ 45.015625 15.765625 45.015625 23.390625 \nQ 45.015625 31 40.078125 35.4375 \nQ 35.15625 39.890625 26.703125 39.890625 \nQ 22.75 39.890625 18.8125 39.015625 \nQ 14.890625 38.140625 10.796875 36.28125 \nz\n\" id=\"DejaVuSans-53\"/>\n      </defs>\n      <g transform=\"translate(85.383949 239.238437)scale(0.1 -0.1)\">\n       <use xlink:href=\"#DejaVuSans-53\"/>\n       <use x=\"63.623047\" xlink:href=\"#DejaVuSans-48\"/>\n      </g>\n     </g>\n    </g>\n    <g id=\"xtick_3\">\n     <g id=\"line2d_3\">\n      <g>\n       <use style=\"stroke:#000000;stroke-width:0.8;\" x=\"129.791903\" xlink:href=\"#mee0482fd46\" y=\"224.64\"/>\n      </g>\n     </g>\n     <g id=\"text_3\">\n      <!-- 100 -->\n      <defs>\n       <path d=\"M 12.40625 8.296875 \nL 28.515625 8.296875 \nL 28.515625 63.921875 \nL 10.984375 60.40625 \nL 10.984375 69.390625 \nL 28.421875 72.90625 \nL 38.28125 72.90625 \nL 38.28125 8.296875 \nL 54.390625 8.296875 \nL 54.390625 0 \nL 12.40625 0 \nz\n\" id=\"DejaVuSans-49\"/>\n      </defs>\n      <g transform=\"translate(120.248153 239.238437)scale(0.1 -0.1)\">\n       <use xlink:href=\"#DejaVuSans-49\"/>\n       <use x=\"63.623047\" xlink:href=\"#DejaVuSans-48\"/>\n       <use x=\"127.246094\" xlink:href=\"#DejaVuSans-48\"/>\n      </g>\n     </g>\n    </g>\n    <g id=\"xtick_4\">\n     <g id=\"line2d_4\">\n      <g>\n       <use style=\"stroke:#000000;stroke-width:0.8;\" x=\"167.837358\" xlink:href=\"#mee0482fd46\" y=\"224.64\"/>\n      </g>\n     </g>\n     <g id=\"text_4\">\n      <!-- 150 -->\n      <g transform=\"translate(158.293608 239.238437)scale(0.1 -0.1)\">\n       <use xlink:href=\"#DejaVuSans-49\"/>\n       <use x=\"63.623047\" xlink:href=\"#DejaVuSans-53\"/>\n       <use x=\"127.246094\" xlink:href=\"#DejaVuSans-48\"/>\n      </g>\n     </g>\n    </g>\n    <g id=\"xtick_5\">\n     <g id=\"line2d_5\">\n      <g>\n       <use style=\"stroke:#000000;stroke-width:0.8;\" x=\"205.882812\" xlink:href=\"#mee0482fd46\" y=\"224.64\"/>\n      </g>\n     </g>\n     <g id=\"text_5\">\n      <!-- 200 -->\n      <defs>\n       <path d=\"M 19.1875 8.296875 \nL 53.609375 8.296875 \nL 53.609375 0 \nL 7.328125 0 \nL 7.328125 8.296875 \nQ 12.9375 14.109375 22.625 23.890625 \nQ 32.328125 33.6875 34.8125 36.53125 \nQ 39.546875 41.84375 41.421875 45.53125 \nQ 43.3125 49.21875 43.3125 52.78125 \nQ 43.3125 58.59375 39.234375 62.25 \nQ 35.15625 65.921875 28.609375 65.921875 \nQ 23.96875 65.921875 18.8125 64.3125 \nQ 13.671875 62.703125 7.8125 59.421875 \nL 7.8125 69.390625 \nQ 13.765625 71.78125 18.9375 73 \nQ 24.125 74.21875 28.421875 74.21875 \nQ 39.75 74.21875 46.484375 68.546875 \nQ 53.21875 62.890625 53.21875 53.421875 \nQ 53.21875 48.921875 51.53125 44.890625 \nQ 49.859375 40.875 45.40625 35.40625 \nQ 44.1875 33.984375 37.640625 27.21875 \nQ 31.109375 20.453125 19.1875 8.296875 \nz\n\" id=\"DejaVuSans-50\"/>\n      </defs>\n      <g transform=\"translate(196.339063 239.238437)scale(0.1 -0.1)\">\n       <use xlink:href=\"#DejaVuSans-50\"/>\n       <use x=\"63.623047\" xlink:href=\"#DejaVuSans-48\"/>\n       <use x=\"127.246094\" xlink:href=\"#DejaVuSans-48\"/>\n      </g>\n     </g>\n    </g>\n    <g id=\"xtick_6\">\n     <g id=\"line2d_6\">\n      <g>\n       <use style=\"stroke:#000000;stroke-width:0.8;\" x=\"243.928267\" xlink:href=\"#mee0482fd46\" y=\"224.64\"/>\n      </g>\n     </g>\n     <g id=\"text_6\">\n      <!-- 250 -->\n      <g transform=\"translate(234.384517 239.238437)scale(0.1 -0.1)\">\n       <use xlink:href=\"#DejaVuSans-50\"/>\n       <use x=\"63.623047\" xlink:href=\"#DejaVuSans-53\"/>\n       <use x=\"127.246094\" xlink:href=\"#DejaVuSans-48\"/>\n      </g>\n     </g>\n    </g>\n    <g id=\"xtick_7\">\n     <g id=\"line2d_7\">\n      <g>\n       <use style=\"stroke:#000000;stroke-width:0.8;\" x=\"281.973722\" xlink:href=\"#mee0482fd46\" y=\"224.64\"/>\n      </g>\n     </g>\n     <g id=\"text_7\">\n      <!-- 300 -->\n      <defs>\n       <path d=\"M 40.578125 39.3125 \nQ 47.65625 37.796875 51.625 33 \nQ 55.609375 28.21875 55.609375 21.1875 \nQ 55.609375 10.40625 48.1875 4.484375 \nQ 40.765625 -1.421875 27.09375 -1.421875 \nQ 22.515625 -1.421875 17.65625 -0.515625 \nQ 12.796875 0.390625 7.625 2.203125 \nL 7.625 11.71875 \nQ 11.71875 9.328125 16.59375 8.109375 \nQ 21.484375 6.890625 26.8125 6.890625 \nQ 36.078125 6.890625 40.9375 10.546875 \nQ 45.796875 14.203125 45.796875 21.1875 \nQ 45.796875 27.640625 41.28125 31.265625 \nQ 36.765625 34.90625 28.71875 34.90625 \nL 20.21875 34.90625 \nL 20.21875 43.015625 \nL 29.109375 43.015625 \nQ 36.375 43.015625 40.234375 45.921875 \nQ 44.09375 48.828125 44.09375 54.296875 \nQ 44.09375 59.90625 40.109375 62.90625 \nQ 36.140625 65.921875 28.71875 65.921875 \nQ 24.65625 65.921875 20.015625 65.03125 \nQ 15.375 64.15625 9.8125 62.3125 \nL 9.8125 71.09375 \nQ 15.4375 72.65625 20.34375 73.4375 \nQ 25.25 74.21875 29.59375 74.21875 \nQ 40.828125 74.21875 47.359375 69.109375 \nQ 53.90625 64.015625 53.90625 55.328125 \nQ 53.90625 49.265625 50.4375 45.09375 \nQ 46.96875 40.921875 40.578125 39.3125 \nz\n\" id=\"DejaVuSans-51\"/>\n      </defs>\n      <g transform=\"translate(272.429972 239.238437)scale(0.1 -0.1)\">\n       <use xlink:href=\"#DejaVuSans-51\"/>\n       <use x=\"63.623047\" xlink:href=\"#DejaVuSans-48\"/>\n       <use x=\"127.246094\" xlink:href=\"#DejaVuSans-48\"/>\n      </g>\n     </g>\n    </g>\n    <g id=\"xtick_8\">\n     <g id=\"line2d_8\">\n      <g>\n       <use style=\"stroke:#000000;stroke-width:0.8;\" x=\"320.019176\" xlink:href=\"#mee0482fd46\" y=\"224.64\"/>\n      </g>\n     </g>\n     <g id=\"text_8\">\n      <!-- 350 -->\n      <g transform=\"translate(310.475426 239.238437)scale(0.1 -0.1)\">\n       <use xlink:href=\"#DejaVuSans-51\"/>\n       <use x=\"63.623047\" xlink:href=\"#DejaVuSans-53\"/>\n       <use x=\"127.246094\" xlink:href=\"#DejaVuSans-48\"/>\n      </g>\n     </g>\n    </g>\n    <g id=\"xtick_9\">\n     <g id=\"line2d_9\">\n      <g>\n       <use style=\"stroke:#000000;stroke-width:0.8;\" x=\"358.064631\" xlink:href=\"#mee0482fd46\" y=\"224.64\"/>\n      </g>\n     </g>\n     <g id=\"text_9\">\n      <!-- 400 -->\n      <defs>\n       <path d=\"M 37.796875 64.3125 \nL 12.890625 25.390625 \nL 37.796875 25.390625 \nz\nM 35.203125 72.90625 \nL 47.609375 72.90625 \nL 47.609375 25.390625 \nL 58.015625 25.390625 \nL 58.015625 17.1875 \nL 47.609375 17.1875 \nL 47.609375 0 \nL 37.796875 0 \nL 37.796875 17.1875 \nL 4.890625 17.1875 \nL 4.890625 26.703125 \nz\n\" id=\"DejaVuSans-52\"/>\n      </defs>\n      <g transform=\"translate(348.520881 239.238437)scale(0.1 -0.1)\">\n       <use xlink:href=\"#DejaVuSans-52\"/>\n       <use x=\"63.623047\" xlink:href=\"#DejaVuSans-48\"/>\n       <use x=\"127.246094\" xlink:href=\"#DejaVuSans-48\"/>\n      </g>\n     </g>\n    </g>\n   </g>\n   <g id=\"matplotlib.axis_2\">\n    <g id=\"ytick_1\">\n     <g id=\"line2d_10\">\n      <defs>\n       <path d=\"M 0 0 \nL -3.5 0 \n\" id=\"m38a60cb10d\" style=\"stroke:#000000;stroke-width:0.8;\"/>\n      </defs>\n      <g>\n       <use style=\"stroke:#000000;stroke-width:0.8;\" x=\"38.482813\" xlink:href=\"#m38a60cb10d\" y=\"197.540256\"/>\n      </g>\n     </g>\n     <g id=\"text_10\">\n      <!-- −0.5 -->\n      <defs>\n       <path d=\"M 10.59375 35.5 \nL 73.1875 35.5 \nL 73.1875 27.203125 \nL 10.59375 27.203125 \nz\n\" id=\"DejaVuSans-8722\"/>\n       <path d=\"M 10.6875 12.40625 \nL 21 12.40625 \nL 21 0 \nL 10.6875 0 \nz\n\" id=\"DejaVuSans-46\"/>\n      </defs>\n      <g transform=\"translate(7.2 201.339475)scale(0.1 -0.1)\">\n       <use xlink:href=\"#DejaVuSans-8722\"/>\n       <use x=\"83.789062\" xlink:href=\"#DejaVuSans-48\"/>\n       <use x=\"147.412109\" xlink:href=\"#DejaVuSans-46\"/>\n       <use x=\"179.199219\" xlink:href=\"#DejaVuSans-53\"/>\n      </g>\n     </g>\n    </g>\n    <g id=\"ytick_2\">\n     <g id=\"line2d_11\">\n      <g>\n       <use style=\"stroke:#000000;stroke-width:0.8;\" x=\"38.482813\" xlink:href=\"#m38a60cb10d\" y=\"168.279736\"/>\n      </g>\n     </g>\n     <g id=\"text_11\">\n      <!-- 0.0 -->\n      <g transform=\"translate(15.579688 172.078954)scale(0.1 -0.1)\">\n       <use xlink:href=\"#DejaVuSans-48\"/>\n       <use x=\"63.623047\" xlink:href=\"#DejaVuSans-46\"/>\n       <use x=\"95.410156\" xlink:href=\"#DejaVuSans-48\"/>\n      </g>\n     </g>\n    </g>\n    <g id=\"ytick_3\">\n     <g id=\"line2d_12\">\n      <g>\n       <use style=\"stroke:#000000;stroke-width:0.8;\" x=\"38.482813\" xlink:href=\"#m38a60cb10d\" y=\"139.019215\"/>\n      </g>\n     </g>\n     <g id=\"text_12\">\n      <!-- 0.5 -->\n      <g transform=\"translate(15.579688 142.818434)scale(0.1 -0.1)\">\n       <use xlink:href=\"#DejaVuSans-48\"/>\n       <use x=\"63.623047\" xlink:href=\"#DejaVuSans-46\"/>\n       <use x=\"95.410156\" xlink:href=\"#DejaVuSans-53\"/>\n      </g>\n     </g>\n    </g>\n    <g id=\"ytick_4\">\n     <g id=\"line2d_13\">\n      <g>\n       <use style=\"stroke:#000000;stroke-width:0.8;\" x=\"38.482813\" xlink:href=\"#m38a60cb10d\" y=\"109.758694\"/>\n      </g>\n     </g>\n     <g id=\"text_13\">\n      <!-- 1.0 -->\n      <g transform=\"translate(15.579688 113.557913)scale(0.1 -0.1)\">\n       <use xlink:href=\"#DejaVuSans-49\"/>\n       <use x=\"63.623047\" xlink:href=\"#DejaVuSans-46\"/>\n       <use x=\"95.410156\" xlink:href=\"#DejaVuSans-48\"/>\n      </g>\n     </g>\n    </g>\n    <g id=\"ytick_5\">\n     <g id=\"line2d_14\">\n      <g>\n       <use style=\"stroke:#000000;stroke-width:0.8;\" x=\"38.482813\" xlink:href=\"#m38a60cb10d\" y=\"80.498174\"/>\n      </g>\n     </g>\n     <g id=\"text_14\">\n      <!-- 1.5 -->\n      <g transform=\"translate(15.579688 84.297393)scale(0.1 -0.1)\">\n       <use xlink:href=\"#DejaVuSans-49\"/>\n       <use x=\"63.623047\" xlink:href=\"#DejaVuSans-46\"/>\n       <use x=\"95.410156\" xlink:href=\"#DejaVuSans-53\"/>\n      </g>\n     </g>\n    </g>\n    <g id=\"ytick_6\">\n     <g id=\"line2d_15\">\n      <g>\n       <use style=\"stroke:#000000;stroke-width:0.8;\" x=\"38.482813\" xlink:href=\"#m38a60cb10d\" y=\"51.237653\"/>\n      </g>\n     </g>\n     <g id=\"text_15\">\n      <!-- 2.0 -->\n      <g transform=\"translate(15.579688 55.036872)scale(0.1 -0.1)\">\n       <use xlink:href=\"#DejaVuSans-50\"/>\n       <use x=\"63.623047\" xlink:href=\"#DejaVuSans-46\"/>\n       <use x=\"95.410156\" xlink:href=\"#DejaVuSans-48\"/>\n      </g>\n     </g>\n    </g>\n    <g id=\"ytick_7\">\n     <g id=\"line2d_16\">\n      <g>\n       <use style=\"stroke:#000000;stroke-width:0.8;\" x=\"38.482813\" xlink:href=\"#m38a60cb10d\" y=\"21.977133\"/>\n      </g>\n     </g>\n     <g id=\"text_16\">\n      <!-- 2.5 -->\n      <g transform=\"translate(15.579688 25.776351)scale(0.1 -0.1)\">\n       <use xlink:href=\"#DejaVuSans-50\"/>\n       <use x=\"63.623047\" xlink:href=\"#DejaVuSans-46\"/>\n       <use x=\"95.410156\" xlink:href=\"#DejaVuSans-53\"/>\n      </g>\n     </g>\n    </g>\n   </g>\n   <g id=\"line2d_17\">\n    <path clip-path=\"url(#pd0a4b11124)\" d=\"M 53.700994 124.915629 \nL 54.461903 108.290684 \nL 55.222813 96.157665 \nL 55.983722 89.138893 \nL 56.744631 86.58319 \nL 57.50554 87.255358 \nL 58.266449 89.92967 \nL 59.788267 97.815252 \nL 62.070994 109.791284 \nL 63.592813 116.339423 \nL 65.114631 121.653466 \nL 66.636449 125.908401 \nL 68.158267 129.297977 \nL 69.680085 131.989941 \nL 71.201903 134.118856 \nL 72.723722 135.789833 \nL 74.24554 137.084418 \nL 75.767358 138.066 \nL 77.289176 138.784159 \nL 78.810994 139.277995 \nL 80.332813 139.578614 \nL 81.854631 139.710993 \nL 84.137358 139.637356 \nL 86.420085 139.283442 \nL 88.702812 138.68964 \nL 90.98554 137.887003 \nL 94.029176 136.533367 \nL 97.072812 134.896263 \nL 100.116449 133.01061 \nL 103.920994 130.346812 \nL 107.72554 127.385461 \nL 112.290994 123.497413 \nL 116.856449 119.309225 \nL 122.943722 113.379295 \nL 132.83554 103.335036 \nL 140.444631 95.723018 \nL 145.770994 90.68641 \nL 150.336449 86.663479 \nL 154.901903 82.968041 \nL 158.706449 80.155602 \nL 163.271903 77.085737 \nL 168.598267 73.824791 \nL 176.207358 69.195228 \nL 179.250994 67.030198 \nL 181.533722 65.12472 \nL 183.816449 62.849573 \nL 185.338267 61.051882 \nL 186.860085 58.962122 \nL 188.381903 56.508533 \nL 189.903722 53.60453 \nL 191.42554 50.147794 \nL 192.947358 46.023471 \nL 194.469176 41.119058 \nL 195.990994 35.370298 \nL 199.79554 19.444144 \nL 200.556449 17.472301 \nL 201.317358 17.083636 \nL 202.078267 19.321093 \nL 202.839176 25.560314 \nL 203.600085 37.321664 \nL 204.360994 55.727746 \nL 205.121903 80.617412 \nL 207.404631 165.674888 \nL 208.16554 185.874075 \nL 208.926449 199.615046 \nL 209.687358 207.783353 \nL 210.448267 211.771431 \nL 211.209176 212.90973 \nL 211.970085 212.243709 \nL 212.730994 210.514083 \nL 214.252812 205.659231 \nL 216.53554 198.046723 \nL 218.057358 193.654599 \nL 219.579176 189.952313 \nL 221.100994 186.898299 \nL 222.622812 184.412742 \nL 224.144631 182.411359 \nL 225.666449 180.817309 \nL 227.188267 179.564404 \nL 228.710085 178.597013 \nL 230.231903 177.868841 \nL 231.753722 177.34147 \nL 234.036449 176.858588 \nL 236.319176 176.670669 \nL 238.601903 176.711509 \nL 241.64554 177.034776 \nL 244.689176 177.5827 \nL 248.493722 178.482577 \nL 253.820085 179.982614 \nL 266.75554 183.97335 \nL 275.886449 186.653217 \nL 284.256449 188.872488 \nL 292.626449 190.853907 \nL 302.518267 192.953907 \nL 318.497358 196.308771 \nL 323.823722 197.684842 \nL 327.628267 198.875655 \nL 330.671903 200.019979 \nL 333.71554 201.403365 \nL 335.998267 202.647978 \nL 338.280994 204.118203 \nL 340.563722 205.862038 \nL 342.846449 207.919446 \nL 345.129176 210.282186 \nL 348.172812 213.525707 \nL 348.933722 214.171328 \nL 349.694631 214.622366 \nL 350.45554 214.756364 \nL 351.216449 214.3928 \nL 351.977358 213.26919 \nL 352.738267 211.012588 \nL 353.499176 207.114209 \nL 354.260085 200.929219 \nL 355.020994 191.749027 \nL 355.781903 179.018632 \nL 356.542812 162.745373 \nL 358.064631 124.915629 \nL 358.064631 124.915629 \n\" style=\"fill:none;stroke:#1f77b4;stroke-linecap:square;stroke-width:1.5;\"/>\n   </g>\n   <g id=\"patch_3\">\n    <path d=\"M 38.482813 224.64 \nL 38.482813 7.2 \n\" style=\"fill:none;stroke:#000000;stroke-linecap:square;stroke-linejoin:miter;stroke-width:0.8;\"/>\n   </g>\n   <g id=\"patch_4\">\n    <path d=\"M 373.282813 224.64 \nL 373.282813 7.2 \n\" style=\"fill:none;stroke:#000000;stroke-linecap:square;stroke-linejoin:miter;stroke-width:0.8;\"/>\n   </g>\n   <g id=\"patch_5\">\n    <path d=\"M 38.482813 224.64 \nL 373.282812 224.64 \n\" style=\"fill:none;stroke:#000000;stroke-linecap:square;stroke-linejoin:miter;stroke-width:0.8;\"/>\n   </g>\n   <g id=\"patch_6\">\n    <path d=\"M 38.482813 7.2 \nL 373.282812 7.2 \n\" style=\"fill:none;stroke:#000000;stroke-linecap:square;stroke-linejoin:miter;stroke-width:0.8;\"/>\n   </g>\n  </g>\n </g>\n <defs>\n  <clipPath id=\"pd0a4b11124\">\n   <rect height=\"217.44\" width=\"334.8\" x=\"38.482813\" y=\"7.2\"/>\n  </clipPath>\n </defs>\n</svg>\n"
          },
          "metadata": {
            "needs_background": "light"
          }
        }
      ]
    },
    {
      "cell_type": "code",
      "metadata": {
        "id": "qXzDsL7WGPUg"
      },
      "source": [
        ""
      ],
      "execution_count": null,
      "outputs": []
    }
  ]
}