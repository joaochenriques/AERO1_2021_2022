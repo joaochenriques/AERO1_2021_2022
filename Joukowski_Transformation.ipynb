{
  "nbformat": 4,
  "nbformat_minor": 0,
  "metadata": {
    "colab": {
      "name": "Joukowski_Transformation.ipynb",
      "provenance": [],
      "authorship_tag": "ABX9TyO/V9YJk9LfYq+d+zVrnntx",
      "include_colab_link": true
    },
    "kernelspec": {
      "name": "python3",
      "display_name": "Python 3"
    },
    "language_info": {
      "name": "python"
    }
  },
  "cells": [
    {
      "cell_type": "markdown",
      "metadata": {
        "id": "view-in-github",
        "colab_type": "text"
      },
      "source": [
        "<a href=\"https://colab.research.google.com/github/joaochenriques/AERO1_2021_2022/blob/main/Joukowski_Transformation.ipynb\" target=\"_parent\"><img src=\"https://colab.research.google.com/assets/colab-badge.svg\" alt=\"Open In Colab\"/></a>"
      ]
    },
    {
      "cell_type": "code",
      "metadata": {
        "id": "eqPN9V4sLlpq"
      },
      "source": [
        "from numpy import sqrt, linspace, exp, pi, complex, real, imag, array\n",
        "import matplotlib.pyplot as mpl\n",
        "%config InlineBackend.figure_formats = ['svg']\n",
        "mpl.rcParams[\"figure.figsize\"] = (5, 5)"
      ],
      "execution_count": 1,
      "outputs": []
    },
    {
      "cell_type": "code",
      "metadata": {
        "id": "ecHehv4uLrRv"
      },
      "source": [
        "i = 1J\n",
        "𝜋 = pi\n",
        "n = 100 # points per side\n",
        "θ = linspace( 0, 2*𝜋, 2*n-1 )"
      ],
      "execution_count": 2,
      "outputs": []
    },
    {
      "cell_type": "code",
      "metadata": {
        "id": "v68eApw_78GQ"
      },
      "source": [
        "def draw_grid():\n",
        "  mpl.axis('equal')\n",
        "  mpl.axhline(y= 0,lw=1,dashes=(5,2),color='0.5')\n",
        "  mpl.axvline(x= 0,lw=1,dashes=(5,2),color='0.5')\n",
        "  mpl.axvline(x= 1,lw=1,dashes=(5,2),color='0.5')\n",
        "  mpl.axvline(x=-1,lw=1,dashes=(5,2),color='0.5')\n",
        "  mpl.axvline(x=-2,lw=1,dashes=(5,2),color='0.5')\n",
        "  mpl.axvline(x= 2,lw=1,dashes=(5,2),color='0.5')"
      ],
      "execution_count": 21,
      "outputs": []
    },
    {
      "cell_type": "markdown",
      "metadata": {
        "id": "6LBRmcljki4p"
      },
      "source": [
        "## **Joukowsky airfoil** \n",
        "\n",
        "$\\Delta r$ - displacement in the real axis\n",
        "\n",
        "$\\Delta i$ - displacement in the imag axis\n",
        "\n",
        "$a$ - circle radius\n",
        "\n",
        "$c$ - circle center\n",
        "\n",
        "$\\zeta$ - circle coordinates in the $(\\xi,\\eta)$ plane\n",
        "\n",
        "$z$ - Joukowsky airfoil coordinates in the $(x,y)$ plane"
      ]
    },
    {
      "cell_type": "code",
      "metadata": {
        "colab": {
          "base_uri": "https://localhost:8080/",
          "height": 352
        },
        "id": "UF2UN9EHLtWV",
        "outputId": "1836df74-7474-4e33-ef69-a82f7dd4fd4f"
      },
      "source": [
        "Δr = -0.1\n",
        "Δi =  0.3\n",
        "\n",
        "a = sqrt( (1.0-Δr)**2 + Δi**2 )\n",
        "c = complex( Δr, Δi )\n",
        "ζ = a * exp( i*θ ) + c\n",
        "z = ζ + 1.0 / ζ\n",
        "\n",
        "draw_grid()\n",
        "\n",
        "mpl.plot( real(ζ), imag(ζ),'b', label=r'$(\\xi,\\eta)$')\n",
        "mpl.plot( real(z), imag(z),'r', label=r'$(x,y)$')\n",
        "\n",
        "# draw LE, TE and circle center\n",
        "ζe = array( ( complex(-1+2*Δr,0), complex(1,0) ) )\n",
        "ze = ζe + 1.0 / ζe\n",
        "mpl.plot( real(ζe[0]), imag(ζe[0]),'bo', fillstyle='none', markersize=6, markerfacecolor='w')\n",
        "mpl.plot( real(ze[0]), imag(ze[0]),'ro', fillstyle='none', markersize=6, markerfacecolor='w')\n",
        "mpl.plot( real(ζe[1]), imag(ζe[1]),'bs', fillstyle='none', markersize=6, markerfacecolor='w')\n",
        "mpl.plot( real(ze[1]), imag(ze[1]),'rs', fillstyle='none', markersize=6, markerfacecolor='w')\n",
        "mpl.plot( real(c), imag(c),'g+', markersize=8, markeredgewidth=2)\n",
        "\n",
        "mpl.legend();"
      ],
      "execution_count": 23,
      "outputs": [
        {
          "output_type": "display_data",
          "data": {
            "text/plain": [
              "<Figure size 432x288 with 1 Axes>"
            ],
            "image/svg+xml": "<?xml version=\"1.0\" encoding=\"utf-8\" standalone=\"no\"?>\n<!DOCTYPE svg PUBLIC \"-//W3C//DTD SVG 1.1//EN\"\n  \"http://www.w3.org/Graphics/SVG/1.1/DTD/svg11.dtd\">\n<!-- Created with matplotlib (https://matplotlib.org/) -->\n<svg height=\"248.518125pt\" version=\"1.1\" viewBox=\"0 0 380.482813 248.518125\" width=\"380.482813pt\" xmlns=\"http://www.w3.org/2000/svg\" xmlns:xlink=\"http://www.w3.org/1999/xlink\">\n <defs>\n  <style type=\"text/css\">\n*{stroke-linecap:butt;stroke-linejoin:round;}\n  </style>\n </defs>\n <g id=\"figure_1\">\n  <g id=\"patch_1\">\n   <path d=\"M -0 248.518125 \nL 380.482813 248.518125 \nL 380.482813 0 \nL -0 0 \nz\n\" style=\"fill:none;\"/>\n  </g>\n  <g id=\"axes_1\">\n   <g id=\"patch_2\">\n    <path d=\"M 38.482813 224.64 \nL 373.282813 224.64 \nL 373.282813 7.2 \nL 38.482813 7.2 \nz\n\" style=\"fill:#ffffff;\"/>\n   </g>\n   <g id=\"matplotlib.axis_1\">\n    <g id=\"xtick_1\">\n     <g id=\"line2d_1\">\n      <defs>\n       <path d=\"M 0 0 \nL 0 3.5 \n\" id=\"m2e278d9a12\" style=\"stroke:#000000;stroke-width:0.8;\"/>\n      </defs>\n      <g>\n       <use style=\"stroke:#000000;stroke-width:0.8;\" x=\"56.400782\" xlink:href=\"#m2e278d9a12\" y=\"224.64\"/>\n      </g>\n     </g>\n     <g id=\"text_1\">\n      <!-- −2.0 -->\n      <defs>\n       <path d=\"M 10.59375 35.5 \nL 73.1875 35.5 \nL 73.1875 27.203125 \nL 10.59375 27.203125 \nz\n\" id=\"DejaVuSans-8722\"/>\n       <path d=\"M 19.1875 8.296875 \nL 53.609375 8.296875 \nL 53.609375 0 \nL 7.328125 0 \nL 7.328125 8.296875 \nQ 12.9375 14.109375 22.625 23.890625 \nQ 32.328125 33.6875 34.8125 36.53125 \nQ 39.546875 41.84375 41.421875 45.53125 \nQ 43.3125 49.21875 43.3125 52.78125 \nQ 43.3125 58.59375 39.234375 62.25 \nQ 35.15625 65.921875 28.609375 65.921875 \nQ 23.96875 65.921875 18.8125 64.3125 \nQ 13.671875 62.703125 7.8125 59.421875 \nL 7.8125 69.390625 \nQ 13.765625 71.78125 18.9375 73 \nQ 24.125 74.21875 28.421875 74.21875 \nQ 39.75 74.21875 46.484375 68.546875 \nQ 53.21875 62.890625 53.21875 53.421875 \nQ 53.21875 48.921875 51.53125 44.890625 \nQ 49.859375 40.875 45.40625 35.40625 \nQ 44.1875 33.984375 37.640625 27.21875 \nQ 31.109375 20.453125 19.1875 8.296875 \nz\n\" id=\"DejaVuSans-50\"/>\n       <path d=\"M 10.6875 12.40625 \nL 21 12.40625 \nL 21 0 \nL 10.6875 0 \nz\n\" id=\"DejaVuSans-46\"/>\n       <path d=\"M 31.78125 66.40625 \nQ 24.171875 66.40625 20.328125 58.90625 \nQ 16.5 51.421875 16.5 36.375 \nQ 16.5 21.390625 20.328125 13.890625 \nQ 24.171875 6.390625 31.78125 6.390625 \nQ 39.453125 6.390625 43.28125 13.890625 \nQ 47.125 21.390625 47.125 36.375 \nQ 47.125 51.421875 43.28125 58.90625 \nQ 39.453125 66.40625 31.78125 66.40625 \nz\nM 31.78125 74.21875 \nQ 44.046875 74.21875 50.515625 64.515625 \nQ 56.984375 54.828125 56.984375 36.375 \nQ 56.984375 17.96875 50.515625 8.265625 \nQ 44.046875 -1.421875 31.78125 -1.421875 \nQ 19.53125 -1.421875 13.0625 8.265625 \nQ 6.59375 17.96875 6.59375 36.375 \nQ 6.59375 54.828125 13.0625 64.515625 \nQ 19.53125 74.21875 31.78125 74.21875 \nz\n\" id=\"DejaVuSans-48\"/>\n      </defs>\n      <g transform=\"translate(44.259376 239.238437)scale(0.1 -0.1)\">\n       <use xlink:href=\"#DejaVuSans-8722\"/>\n       <use x=\"83.789062\" xlink:href=\"#DejaVuSans-50\"/>\n       <use x=\"147.412109\" xlink:href=\"#DejaVuSans-46\"/>\n       <use x=\"179.199219\" xlink:href=\"#DejaVuSans-48\"/>\n      </g>\n     </g>\n    </g>\n    <g id=\"xtick_2\">\n     <g id=\"line2d_2\">\n      <g>\n       <use style=\"stroke:#000000;stroke-width:0.8;\" x=\"94.108763\" xlink:href=\"#m2e278d9a12\" y=\"224.64\"/>\n      </g>\n     </g>\n     <g id=\"text_2\">\n      <!-- −1.5 -->\n      <defs>\n       <path d=\"M 12.40625 8.296875 \nL 28.515625 8.296875 \nL 28.515625 63.921875 \nL 10.984375 60.40625 \nL 10.984375 69.390625 \nL 28.421875 72.90625 \nL 38.28125 72.90625 \nL 38.28125 8.296875 \nL 54.390625 8.296875 \nL 54.390625 0 \nL 12.40625 0 \nz\n\" id=\"DejaVuSans-49\"/>\n       <path d=\"M 10.796875 72.90625 \nL 49.515625 72.90625 \nL 49.515625 64.59375 \nL 19.828125 64.59375 \nL 19.828125 46.734375 \nQ 21.96875 47.46875 24.109375 47.828125 \nQ 26.265625 48.1875 28.421875 48.1875 \nQ 40.625 48.1875 47.75 41.5 \nQ 54.890625 34.8125 54.890625 23.390625 \nQ 54.890625 11.625 47.5625 5.09375 \nQ 40.234375 -1.421875 26.90625 -1.421875 \nQ 22.3125 -1.421875 17.546875 -0.640625 \nQ 12.796875 0.140625 7.71875 1.703125 \nL 7.71875 11.625 \nQ 12.109375 9.234375 16.796875 8.0625 \nQ 21.484375 6.890625 26.703125 6.890625 \nQ 35.15625 6.890625 40.078125 11.328125 \nQ 45.015625 15.765625 45.015625 23.390625 \nQ 45.015625 31 40.078125 35.4375 \nQ 35.15625 39.890625 26.703125 39.890625 \nQ 22.75 39.890625 18.8125 39.015625 \nQ 14.890625 38.140625 10.796875 36.28125 \nz\n\" id=\"DejaVuSans-53\"/>\n      </defs>\n      <g transform=\"translate(81.967357 239.238437)scale(0.1 -0.1)\">\n       <use xlink:href=\"#DejaVuSans-8722\"/>\n       <use x=\"83.789062\" xlink:href=\"#DejaVuSans-49\"/>\n       <use x=\"147.412109\" xlink:href=\"#DejaVuSans-46\"/>\n       <use x=\"179.199219\" xlink:href=\"#DejaVuSans-53\"/>\n      </g>\n     </g>\n    </g>\n    <g id=\"xtick_3\">\n     <g id=\"line2d_3\">\n      <g>\n       <use style=\"stroke:#000000;stroke-width:0.8;\" x=\"131.816744\" xlink:href=\"#m2e278d9a12\" y=\"224.64\"/>\n      </g>\n     </g>\n     <g id=\"text_3\">\n      <!-- −1.0 -->\n      <g transform=\"translate(119.675338 239.238437)scale(0.1 -0.1)\">\n       <use xlink:href=\"#DejaVuSans-8722\"/>\n       <use x=\"83.789062\" xlink:href=\"#DejaVuSans-49\"/>\n       <use x=\"147.412109\" xlink:href=\"#DejaVuSans-46\"/>\n       <use x=\"179.199219\" xlink:href=\"#DejaVuSans-48\"/>\n      </g>\n     </g>\n    </g>\n    <g id=\"xtick_4\">\n     <g id=\"line2d_4\">\n      <g>\n       <use style=\"stroke:#000000;stroke-width:0.8;\" x=\"169.524725\" xlink:href=\"#m2e278d9a12\" y=\"224.64\"/>\n      </g>\n     </g>\n     <g id=\"text_4\">\n      <!-- −0.5 -->\n      <g transform=\"translate(157.383319 239.238437)scale(0.1 -0.1)\">\n       <use xlink:href=\"#DejaVuSans-8722\"/>\n       <use x=\"83.789062\" xlink:href=\"#DejaVuSans-48\"/>\n       <use x=\"147.412109\" xlink:href=\"#DejaVuSans-46\"/>\n       <use x=\"179.199219\" xlink:href=\"#DejaVuSans-53\"/>\n      </g>\n     </g>\n    </g>\n    <g id=\"xtick_5\">\n     <g id=\"line2d_5\">\n      <g>\n       <use style=\"stroke:#000000;stroke-width:0.8;\" x=\"207.232706\" xlink:href=\"#m2e278d9a12\" y=\"224.64\"/>\n      </g>\n     </g>\n     <g id=\"text_5\">\n      <!-- 0.0 -->\n      <g transform=\"translate(199.281144 239.238437)scale(0.1 -0.1)\">\n       <use xlink:href=\"#DejaVuSans-48\"/>\n       <use x=\"63.623047\" xlink:href=\"#DejaVuSans-46\"/>\n       <use x=\"95.410156\" xlink:href=\"#DejaVuSans-48\"/>\n      </g>\n     </g>\n    </g>\n    <g id=\"xtick_6\">\n     <g id=\"line2d_6\">\n      <g>\n       <use style=\"stroke:#000000;stroke-width:0.8;\" x=\"244.940687\" xlink:href=\"#m2e278d9a12\" y=\"224.64\"/>\n      </g>\n     </g>\n     <g id=\"text_6\">\n      <!-- 0.5 -->\n      <g transform=\"translate(236.989125 239.238437)scale(0.1 -0.1)\">\n       <use xlink:href=\"#DejaVuSans-48\"/>\n       <use x=\"63.623047\" xlink:href=\"#DejaVuSans-46\"/>\n       <use x=\"95.410156\" xlink:href=\"#DejaVuSans-53\"/>\n      </g>\n     </g>\n    </g>\n    <g id=\"xtick_7\">\n     <g id=\"line2d_7\">\n      <g>\n       <use style=\"stroke:#000000;stroke-width:0.8;\" x=\"282.648668\" xlink:href=\"#m2e278d9a12\" y=\"224.64\"/>\n      </g>\n     </g>\n     <g id=\"text_7\">\n      <!-- 1.0 -->\n      <g transform=\"translate(274.697106 239.238437)scale(0.1 -0.1)\">\n       <use xlink:href=\"#DejaVuSans-49\"/>\n       <use x=\"63.623047\" xlink:href=\"#DejaVuSans-46\"/>\n       <use x=\"95.410156\" xlink:href=\"#DejaVuSans-48\"/>\n      </g>\n     </g>\n    </g>\n    <g id=\"xtick_8\">\n     <g id=\"line2d_8\">\n      <g>\n       <use style=\"stroke:#000000;stroke-width:0.8;\" x=\"320.35665\" xlink:href=\"#m2e278d9a12\" y=\"224.64\"/>\n      </g>\n     </g>\n     <g id=\"text_8\">\n      <!-- 1.5 -->\n      <g transform=\"translate(312.405087 239.238437)scale(0.1 -0.1)\">\n       <use xlink:href=\"#DejaVuSans-49\"/>\n       <use x=\"63.623047\" xlink:href=\"#DejaVuSans-46\"/>\n       <use x=\"95.410156\" xlink:href=\"#DejaVuSans-53\"/>\n      </g>\n     </g>\n    </g>\n    <g id=\"xtick_9\">\n     <g id=\"line2d_9\">\n      <g>\n       <use style=\"stroke:#000000;stroke-width:0.8;\" x=\"358.064631\" xlink:href=\"#m2e278d9a12\" y=\"224.64\"/>\n      </g>\n     </g>\n     <g id=\"text_9\">\n      <!-- 2.0 -->\n      <g transform=\"translate(350.113068 239.238437)scale(0.1 -0.1)\">\n       <use xlink:href=\"#DejaVuSans-50\"/>\n       <use x=\"63.623047\" xlink:href=\"#DejaVuSans-46\"/>\n       <use x=\"95.410156\" xlink:href=\"#DejaVuSans-48\"/>\n      </g>\n     </g>\n    </g>\n   </g>\n   <g id=\"matplotlib.axis_2\">\n    <g id=\"ytick_1\">\n     <g id=\"line2d_10\">\n      <defs>\n       <path d=\"M 0 0 \nL -3.5 0 \n\" id=\"m72616908b4\" style=\"stroke:#000000;stroke-width:0.8;\"/>\n      </defs>\n      <g>\n       <use style=\"stroke:#000000;stroke-width:0.8;\" x=\"38.482813\" xlink:href=\"#m72616908b4\" y=\"213.960751\"/>\n      </g>\n     </g>\n     <g id=\"text_10\">\n      <!-- −1.0 -->\n      <g transform=\"translate(7.2 217.75997)scale(0.1 -0.1)\">\n       <use xlink:href=\"#DejaVuSans-8722\"/>\n       <use x=\"83.789062\" xlink:href=\"#DejaVuSans-49\"/>\n       <use x=\"147.412109\" xlink:href=\"#DejaVuSans-46\"/>\n       <use x=\"179.199219\" xlink:href=\"#DejaVuSans-48\"/>\n      </g>\n     </g>\n    </g>\n    <g id=\"ytick_2\">\n     <g id=\"line2d_11\">\n      <g>\n       <use style=\"stroke:#000000;stroke-width:0.8;\" x=\"38.482813\" xlink:href=\"#m72616908b4\" y=\"176.25277\"/>\n      </g>\n     </g>\n     <g id=\"text_11\">\n      <!-- −0.5 -->\n      <g transform=\"translate(7.2 180.051989)scale(0.1 -0.1)\">\n       <use xlink:href=\"#DejaVuSans-8722\"/>\n       <use x=\"83.789062\" xlink:href=\"#DejaVuSans-48\"/>\n       <use x=\"147.412109\" xlink:href=\"#DejaVuSans-46\"/>\n       <use x=\"179.199219\" xlink:href=\"#DejaVuSans-53\"/>\n      </g>\n     </g>\n    </g>\n    <g id=\"ytick_3\">\n     <g id=\"line2d_12\">\n      <g>\n       <use style=\"stroke:#000000;stroke-width:0.8;\" x=\"38.482813\" xlink:href=\"#m72616908b4\" y=\"138.544789\"/>\n      </g>\n     </g>\n     <g id=\"text_12\">\n      <!-- 0.0 -->\n      <g transform=\"translate(15.579688 142.344007)scale(0.1 -0.1)\">\n       <use xlink:href=\"#DejaVuSans-48\"/>\n       <use x=\"63.623047\" xlink:href=\"#DejaVuSans-46\"/>\n       <use x=\"95.410156\" xlink:href=\"#DejaVuSans-48\"/>\n      </g>\n     </g>\n    </g>\n    <g id=\"ytick_4\">\n     <g id=\"line2d_13\">\n      <g>\n       <use style=\"stroke:#000000;stroke-width:0.8;\" x=\"38.482813\" xlink:href=\"#m72616908b4\" y=\"100.836808\"/>\n      </g>\n     </g>\n     <g id=\"text_13\">\n      <!-- 0.5 -->\n      <g transform=\"translate(15.579688 104.636026)scale(0.1 -0.1)\">\n       <use xlink:href=\"#DejaVuSans-48\"/>\n       <use x=\"63.623047\" xlink:href=\"#DejaVuSans-46\"/>\n       <use x=\"95.410156\" xlink:href=\"#DejaVuSans-53\"/>\n      </g>\n     </g>\n    </g>\n    <g id=\"ytick_5\">\n     <g id=\"line2d_14\">\n      <g>\n       <use style=\"stroke:#000000;stroke-width:0.8;\" x=\"38.482813\" xlink:href=\"#m72616908b4\" y=\"63.128826\"/>\n      </g>\n     </g>\n     <g id=\"text_14\">\n      <!-- 1.0 -->\n      <g transform=\"translate(15.579688 66.928045)scale(0.1 -0.1)\">\n       <use xlink:href=\"#DejaVuSans-49\"/>\n       <use x=\"63.623047\" xlink:href=\"#DejaVuSans-46\"/>\n       <use x=\"95.410156\" xlink:href=\"#DejaVuSans-48\"/>\n      </g>\n     </g>\n    </g>\n    <g id=\"ytick_6\">\n     <g id=\"line2d_15\">\n      <g>\n       <use style=\"stroke:#000000;stroke-width:0.8;\" x=\"38.482813\" xlink:href=\"#m72616908b4\" y=\"25.420845\"/>\n      </g>\n     </g>\n     <g id=\"text_15\">\n      <!-- 1.5 -->\n      <g transform=\"translate(15.579688 29.220064)scale(0.1 -0.1)\">\n       <use xlink:href=\"#DejaVuSans-49\"/>\n       <use x=\"63.623047\" xlink:href=\"#DejaVuSans-46\"/>\n       <use x=\"95.410156\" xlink:href=\"#DejaVuSans-53\"/>\n      </g>\n     </g>\n    </g>\n   </g>\n   <g id=\"line2d_16\">\n    <path clip-path=\"url(#pb907c6c0f3)\" d=\"M 38.482813 138.544789 \nL 373.282813 138.544789 \n\" style=\"fill:none;stroke:#808080;stroke-dasharray:5,2;stroke-dashoffset:0;\"/>\n   </g>\n   <g id=\"line2d_17\">\n    <path clip-path=\"url(#pb907c6c0f3)\" d=\"M 207.232706 224.64 \nL 207.232706 7.2 \n\" style=\"fill:none;stroke:#808080;stroke-dasharray:5,2;stroke-dashoffset:0;\"/>\n   </g>\n   <g id=\"line2d_18\">\n    <path clip-path=\"url(#pb907c6c0f3)\" d=\"M 282.648668 224.64 \nL 282.648668 7.2 \n\" style=\"fill:none;stroke:#808080;stroke-dasharray:5,2;stroke-dashoffset:0;\"/>\n   </g>\n   <g id=\"line2d_19\">\n    <path clip-path=\"url(#pb907c6c0f3)\" d=\"M 131.816744 224.64 \nL 131.816744 7.2 \n\" style=\"fill:none;stroke:#808080;stroke-dasharray:5,2;stroke-dashoffset:0;\"/>\n   </g>\n   <g id=\"line2d_20\">\n    <path clip-path=\"url(#pb907c6c0f3)\" d=\"M 56.400782 224.64 \nL 56.400782 7.2 \n\" style=\"fill:none;stroke:#808080;stroke-dasharray:5,2;stroke-dashoffset:0;\"/>\n   </g>\n   <g id=\"line2d_21\">\n    <path clip-path=\"url(#pb907c6c0f3)\" d=\"M 358.064631 224.64 \nL 358.064631 7.2 \n\" style=\"fill:none;stroke:#808080;stroke-dasharray:5,2;stroke-dashoffset:0;\"/>\n   </g>\n   <g id=\"line2d_22\">\n    <path clip-path=\"url(#pb907c6c0f3)\" d=\"M 285.678537 115.92 \nL 285.505416 110.46634 \nL 284.986752 105.034641 \nL 284.124632 99.646772 \nL 282.922528 94.324431 \nL 281.385281 89.089047 \nL 279.51908 83.961702 \nL 277.33144 78.963041 \nL 274.831169 74.113194 \nL 272.028337 69.431687 \nL 268.934227 64.937373 \nL 265.5613 60.648347 \nL 261.923138 56.581882 \nL 258.034388 52.754349 \nL 253.910711 49.181163 \nL 249.568711 45.87671 \nL 245.025871 42.854297 \nL 240.300484 40.126093 \nL 235.411578 37.703085 \nL 230.378838 35.595029 \nL 225.222529 33.810413 \nL 219.963414 32.356424 \nL 214.62267 31.238915 \nL 209.221802 30.462388 \nL 203.782557 30.029968 \nL 198.326837 29.943397 \nL 192.87661 30.203023 \nL 187.453823 30.807801 \nL 182.080312 31.755296 \nL 176.777712 33.041693 \nL 171.567377 34.661811 \nL 166.470287 36.609128 \nL 161.506965 38.875801 \nL 156.697397 41.452704 \nL 152.060949 44.329461 \nL 147.616291 47.494487 \nL 143.381321 50.935039 \nL 139.373089 54.637262 \nL 135.607738 58.586249 \nL 132.100427 62.766099 \nL 128.86528 67.159981 \nL 125.915324 71.750203 \nL 123.262437 76.518281 \nL 120.917301 81.445015 \nL 118.88936 86.510568 \nL 117.186778 91.694542 \nL 115.816413 96.976064 \nL 114.783781 102.333867 \nL 114.093041 107.746375 \nL 113.746974 113.191797 \nL 113.746974 118.648203 \nL 114.093041 124.093625 \nL 114.783781 129.506133 \nL 115.816413 134.863936 \nL 117.186778 140.145458 \nL 118.88936 145.329432 \nL 120.917301 150.394985 \nL 123.262437 155.321719 \nL 125.915324 160.089797 \nL 128.86528 164.680019 \nL 132.100427 169.073901 \nL 135.607738 173.253751 \nL 139.373089 177.202738 \nL 143.381321 180.904961 \nL 147.616291 184.345513 \nL 152.060949 187.510539 \nL 156.697397 190.387296 \nL 161.506965 192.964199 \nL 166.470287 195.230872 \nL 171.567377 197.178189 \nL 176.777712 198.798307 \nL 182.080312 200.084704 \nL 187.453823 201.032199 \nL 192.87661 201.636977 \nL 198.326837 201.896603 \nL 203.782557 201.810032 \nL 209.221802 201.377612 \nL 214.62267 200.601085 \nL 219.963414 199.483576 \nL 225.222529 198.029587 \nL 230.378838 196.244971 \nL 235.411578 194.136915 \nL 240.300484 191.713907 \nL 245.025871 188.985703 \nL 249.568711 185.96329 \nL 253.910711 182.658837 \nL 258.034388 179.085651 \nL 261.923138 175.258118 \nL 265.5613 171.191653 \nL 268.934227 166.902627 \nL 272.028337 162.408313 \nL 274.831169 157.726806 \nL 277.33144 152.876959 \nL 279.51908 147.878298 \nL 281.385281 142.750953 \nL 282.922528 137.515569 \nL 284.124632 132.193228 \nL 284.986752 126.805359 \nL 285.505416 121.37366 \nL 285.678537 115.92 \nL 285.678537 115.92 \n\" style=\"fill:none;stroke:#0000ff;stroke-linecap:square;stroke-width:1.5;\"/>\n   </g>\n   <g id=\"line2d_23\">\n    <path clip-path=\"url(#pb907c6c0f3)\" d=\"M 352.613843 135.225005 \nL 341.033289 128.271137 \nL 332.095606 123.162261 \nL 324.436814 119.001147 \nL 316.040448 114.683962 \nL 306.975055 110.31854 \nL 297.306677 106.005794 \nL 290.558168 103.206187 \nL 283.589696 100.497006 \nL 276.420528 97.901993 \nL 269.070093 95.4431 \nL 261.558044 93.140458 \nL 253.904281 91.012351 \nL 246.128978 89.075201 \nL 238.252576 87.343556 \nL 230.295776 85.830084 \nL 222.279514 84.545573 \nL 214.224927 83.498931 \nL 206.153314 82.697194 \nL 198.086089 82.145537 \nL 190.044726 81.847282 \nL 182.050704 81.803919 \nL 174.125447 82.015125 \nL 166.290265 82.478784 \nL 158.566287 83.191015 \nL 150.974407 84.146205 \nL 143.535217 85.337036 \nL 136.268952 86.754528 \nL 129.195433 88.388077 \nL 122.334016 90.225498 \nL 115.703547 92.253077 \nL 109.322317 94.45562 \nL 103.208029 96.816511 \nL 97.37777 99.317773 \nL 91.847993 101.940132 \nL 86.634503 104.663086 \nL 81.752461 107.464986 \nL 77.216392 110.323112 \nL 73.040207 113.213767 \nL 69.237243 116.11237 \nL 65.820309 118.993565 \nL 62.801751 121.831337 \nL 60.193534 124.599148 \nL 58.007337 127.270076 \nL 56.254662 129.816991 \nL 54.946966 132.212737 \nL 54.095804 134.430356 \nL 53.712981 136.443337 \nL 53.700994 137.364997 \nL 53.810717 138.225907 \nL 54.043771 139.023019 \nL 54.401822 139.753371 \nL 54.886592 140.414111 \nL 55.499858 141.002502 \nL 56.243457 141.515947 \nL 57.119295 141.951999 \nL 58.129342 142.308382 \nL 59.275642 142.583011 \nL 61.985533 142.879743 \nL 65.266744 142.830136 \nL 69.138118 142.426645 \nL 73.619365 141.667078 \nL 78.730689 140.555518 \nL 84.492204 139.103269 \nL 94.395013 136.331168 \nL 128.498664 126.373707 \nL 138.775279 123.612598 \nL 149.71328 120.892865 \nL 161.267405 118.301466 \nL 173.374176 115.927657 \nL 185.950678 113.858922 \nL 192.383788 112.964658 \nL 198.894408 112.176259 \nL 205.466863 111.502014 \nL 212.084489 110.949188 \nL 218.729752 110.523882 \nL 225.384388 110.230904 \nL 232.029574 110.073668 \nL 238.646104 110.054106 \nL 245.214582 110.172615 \nL 251.715627 110.428024 \nL 258.13008 110.817599 \nL 264.439208 111.337066 \nL 270.624904 111.980679 \nL 276.669876 112.741303 \nL 282.557817 113.610532 \nL 288.273556 114.578821 \nL 293.80319 115.635645 \nL 304.255439 117.968906 \nL 313.83185 120.513075 \nL 322.473686 123.166536 \nL 330.145658 125.82877 \nL 336.834049 128.405111 \nL 342.543865 130.810467 \nL 349.321548 133.942066 \nL 355.212335 136.953672 \nL 358.05173 138.537165 \nL 355.739222 137.136555 \nL 352.613843 135.225005 \nL 352.613843 135.225005 \n\" style=\"fill:none;stroke:#ff0000;stroke-linecap:square;stroke-width:1.5;\"/>\n   </g>\n   <g id=\"line2d_24\">\n    <defs>\n     <path d=\"M 0 3 \nC 0.795609 3 1.55874 2.683901 2.12132 2.12132 \nC 2.683901 1.55874 3 0.795609 3 0 \nC 3 -0.795609 2.683901 -1.55874 2.12132 -2.12132 \nC 1.55874 -2.683901 0.795609 -3 0 -3 \nC -0.795609 -3 -1.55874 -2.683901 -2.12132 -2.12132 \nC -2.683901 -1.55874 -3 -0.795609 -3 0 \nC -3 0.795609 -2.683901 1.55874 -2.12132 2.12132 \nC -1.55874 2.683901 -0.795609 3 0 3 \nz\n\" id=\"m0caee46db0\" style=\"stroke:#0000ff;\"/>\n    </defs>\n    <g clip-path=\"url(#pb907c6c0f3)\">\n     <use style=\"fill:#ffffff;stroke:#0000ff;\" x=\"116.733552\" xlink:href=\"#m0caee46db0\" y=\"138.544789\"/>\n    </g>\n   </g>\n   <g id=\"line2d_25\">\n    <defs>\n     <path d=\"M 0 3 \nC 0.795609 3 1.55874 2.683901 2.12132 2.12132 \nC 2.683901 1.55874 3 0.795609 3 0 \nC 3 -0.795609 2.683901 -1.55874 2.12132 -2.12132 \nC 1.55874 -2.683901 0.795609 -3 0 -3 \nC -0.795609 -3 -1.55874 -2.683901 -2.12132 -2.12132 \nC -2.683901 -1.55874 -3 -0.795609 -3 0 \nC -3 0.795609 -2.683901 1.55874 -2.12132 2.12132 \nC -1.55874 2.683901 -0.795609 3 0 3 \nz\n\" id=\"ma3e055f270\" style=\"stroke:#ff0000;\"/>\n    </defs>\n    <g clip-path=\"url(#pb907c6c0f3)\">\n     <use style=\"fill:#ffffff;stroke:#ff0000;\" x=\"53.886916\" xlink:href=\"#ma3e055f270\" y=\"138.544789\"/>\n    </g>\n   </g>\n   <g id=\"line2d_26\">\n    <defs>\n     <path d=\"M -3 3 \nL 3 3 \nL 3 -3 \nL -3 -3 \nz\n\" id=\"m57873d81cb\" style=\"stroke:#0000ff;stroke-linejoin:miter;\"/>\n    </defs>\n    <g clip-path=\"url(#pb907c6c0f3)\">\n     <use style=\"fill:#ffffff;stroke:#0000ff;stroke-linejoin:miter;\" x=\"282.648668\" xlink:href=\"#m57873d81cb\" y=\"138.544789\"/>\n    </g>\n   </g>\n   <g id=\"line2d_27\">\n    <defs>\n     <path d=\"M -3 3 \nL 3 3 \nL 3 -3 \nL -3 -3 \nz\n\" id=\"medcf89d8b0\" style=\"stroke:#ff0000;stroke-linejoin:miter;\"/>\n    </defs>\n    <g clip-path=\"url(#pb907c6c0f3)\">\n     <use style=\"fill:#ffffff;stroke:#ff0000;stroke-linejoin:miter;\" x=\"358.064631\" xlink:href=\"#medcf89d8b0\" y=\"138.544789\"/>\n    </g>\n   </g>\n   <g id=\"line2d_28\">\n    <defs>\n     <path d=\"M -4 0 \nL 4 0 \nM 0 4 \nL 0 -4 \n\" id=\"m9a6e124565\" style=\"stroke:#008000;stroke-width:2;\"/>\n    </defs>\n    <g clip-path=\"url(#pb907c6c0f3)\">\n     <use style=\"fill:#008000;stroke:#008000;stroke-width:2;\" x=\"199.69111\" xlink:href=\"#m9a6e124565\" y=\"115.92\"/>\n    </g>\n   </g>\n   <g id=\"patch_3\">\n    <path d=\"M 38.482813 224.64 \nL 38.482813 7.2 \n\" style=\"fill:none;stroke:#000000;stroke-linecap:square;stroke-linejoin:miter;stroke-width:0.8;\"/>\n   </g>\n   <g id=\"patch_4\">\n    <path d=\"M 373.282813 224.64 \nL 373.282813 7.2 \n\" style=\"fill:none;stroke:#000000;stroke-linecap:square;stroke-linejoin:miter;stroke-width:0.8;\"/>\n   </g>\n   <g id=\"patch_5\">\n    <path d=\"M 38.482813 224.64 \nL 373.282813 224.64 \n\" style=\"fill:none;stroke:#000000;stroke-linecap:square;stroke-linejoin:miter;stroke-width:0.8;\"/>\n   </g>\n   <g id=\"patch_6\">\n    <path d=\"M 38.482813 7.2 \nL 373.282813 7.2 \n\" style=\"fill:none;stroke:#000000;stroke-linecap:square;stroke-linejoin:miter;stroke-width:0.8;\"/>\n   </g>\n   <g id=\"legend_1\">\n    <g id=\"patch_7\">\n     <path d=\"M 309.382812 44.6 \nL 366.282812 44.6 \nQ 368.282812 44.6 368.282812 42.6 \nL 368.282812 14.2 \nQ 368.282812 12.2 366.282812 12.2 \nL 309.382812 12.2 \nQ 307.382812 12.2 307.382812 14.2 \nL 307.382812 42.6 \nQ 307.382812 44.6 309.382812 44.6 \nz\n\" style=\"fill:#ffffff;opacity:0.8;stroke:#cccccc;stroke-linejoin:miter;\"/>\n    </g>\n    <g id=\"line2d_29\">\n     <path d=\"M 311.382812 20.3 \nL 331.382812 20.3 \n\" style=\"fill:none;stroke:#0000ff;stroke-linecap:square;stroke-width:1.5;\"/>\n    </g>\n    <g id=\"line2d_30\"/>\n    <g id=\"text_16\">\n     <!-- $(\\xi,\\eta)$ -->\n     <defs>\n      <path d=\"M 31 75.875 \nQ 24.46875 64.65625 21.28125 53.65625 \nQ 18.109375 42.671875 18.109375 31.390625 \nQ 18.109375 20.125 21.3125 9.0625 \nQ 24.515625 -2 31 -13.1875 \nL 23.1875 -13.1875 \nQ 15.875 -1.703125 12.234375 9.375 \nQ 8.59375 20.453125 8.59375 31.390625 \nQ 8.59375 42.28125 12.203125 53.3125 \nQ 15.828125 64.359375 23.1875 75.875 \nz\n\" id=\"DejaVuSans-40\"/>\n      <path d=\"M 31.5 6.203125 \nQ 37.9375 6.15625 41.0625 2.484375 \nQ 44.4375 -1.375 43.3125 -7.234375 \nQ 42.1875 -12.84375 37.84375 -16.75 \nQ 33.109375 -21 25.140625 -21 \nQ 25.875 -17.328125 26.5625 -13.625 \nQ 29.890625 -13.875 32.375 -11.71875 \nQ 34.28125 -10.015625 34.625 -8.203125 \nQ 35.109375 -5.609375 33.984375 -3.46875 \nQ 32.8125 -1.421875 30.03125 -1.421875 \nQ -0.390625 -1.421875 3.765625 19.921875 \nQ 6.59375 34.578125 23.6875 38.875 \nQ 10.359375 40.625 12.84375 53.328125 \nQ 14.703125 62.9375 26.21875 66.9375 \nL 16.0625 66.9375 \nL 17.828125 75.984375 \nL 56.34375 75.984375 \nL 54.59375 66.9375 \nQ 23.875 66.9375 21.09375 52.734375 \nQ 19.28125 43.40625 45.015625 42.96875 \nL 43.40625 34.671875 \nQ 15.765625 35.75 12.796875 19.921875 \nQ 10.296875 6.6875 31.5 6.203125 \nz\n\" id=\"DejaVuSans-Oblique-958\"/>\n      <path d=\"M 11.71875 12.40625 \nL 22.015625 12.40625 \nL 22.015625 4 \nL 14.015625 -11.625 \nL 7.71875 -11.625 \nL 11.71875 4 \nz\n\" id=\"DejaVuSans-44\"/>\n      <path d=\"M 57.859375 33.015625 \nL 47.40625 -20.796875 \nL 38.421875 -20.796875 \nL 48.828125 32.71875 \nQ 50.34375 40.484375 48.046875 44.34375 \nQ 45.796875 48.1875 39.75 48.1875 \nQ 32.46875 48.1875 27.34375 43.5625 \nQ 22.265625 38.921875 20.703125 30.90625 \nL 14.703125 0 \nL 5.671875 0 \nL 16.3125 54.6875 \nL 25.34375 54.6875 \nL 23.6875 46.1875 \nQ 27.828125 51.125 32.71875 53.5625 \nQ 37.546875 56 43.265625 56 \nQ 52.6875 56 56.390625 50.203125 \nQ 60.0625 44.34375 57.859375 33.015625 \nz\n\" id=\"DejaVuSans-Oblique-951\"/>\n      <path d=\"M 8.015625 75.875 \nL 15.828125 75.875 \nQ 23.140625 64.359375 26.78125 53.3125 \nQ 30.421875 42.28125 30.421875 31.390625 \nQ 30.421875 20.453125 26.78125 9.375 \nQ 23.140625 -1.703125 15.828125 -13.1875 \nL 8.015625 -13.1875 \nQ 14.5 -2 17.703125 9.0625 \nQ 20.90625 20.125 20.90625 31.390625 \nQ 20.90625 42.671875 17.703125 53.65625 \nQ 14.5 64.65625 8.015625 75.875 \nz\n\" id=\"DejaVuSans-41\"/>\n     </defs>\n     <g transform=\"translate(339.382812 23.8)scale(0.1 -0.1)\">\n      <use transform=\"translate(0 0.015625)\" xlink:href=\"#DejaVuSans-40\"/>\n      <use transform=\"translate(39.013672 0.015625)\" xlink:href=\"#DejaVuSans-Oblique-958\"/>\n      <use transform=\"translate(94.775391 0.015625)\" xlink:href=\"#DejaVuSans-44\"/>\n      <use transform=\"translate(146.044922 0.015625)\" xlink:href=\"#DejaVuSans-Oblique-951\"/>\n      <use transform=\"translate(209.423828 0.015625)\" xlink:href=\"#DejaVuSans-41\"/>\n     </g>\n    </g>\n    <g id=\"line2d_31\">\n     <path d=\"M 311.382812 35 \nL 331.382812 35 \n\" style=\"fill:none;stroke:#ff0000;stroke-linecap:square;stroke-width:1.5;\"/>\n    </g>\n    <g id=\"line2d_32\"/>\n    <g id=\"text_17\">\n     <!-- $(x,y)$ -->\n     <defs>\n      <path d=\"M 60.015625 54.6875 \nL 34.90625 27.875 \nL 50.296875 0 \nL 39.984375 0 \nL 28.421875 21.6875 \nL 8.296875 0 \nL -2.59375 0 \nL 24.3125 28.8125 \nL 10.015625 54.6875 \nL 20.3125 54.6875 \nL 30.8125 34.90625 \nL 49.125 54.6875 \nz\n\" id=\"DejaVuSans-Oblique-120\"/>\n      <path d=\"M 24.8125 -5.078125 \nQ 18.5625 -15.578125 14.625 -18.1875 \nQ 10.6875 -20.796875 4.59375 -20.796875 \nL -2.484375 -20.796875 \nL -0.984375 -13.28125 \nL 4.203125 -13.28125 \nQ 7.953125 -13.28125 10.59375 -11.234375 \nQ 13.234375 -9.1875 16.5 -3.21875 \nL 19.28125 2 \nL 7.171875 54.6875 \nL 16.703125 54.6875 \nL 25.78125 12.796875 \nL 50.875 54.6875 \nL 60.296875 54.6875 \nz\n\" id=\"DejaVuSans-Oblique-121\"/>\n     </defs>\n     <g transform=\"translate(339.382812 38.5)scale(0.1 -0.1)\">\n      <use transform=\"translate(0 0.125)\" xlink:href=\"#DejaVuSans-40\"/>\n      <use transform=\"translate(39.013672 0.125)\" xlink:href=\"#DejaVuSans-Oblique-120\"/>\n      <use transform=\"translate(98.193359 0.125)\" xlink:href=\"#DejaVuSans-44\"/>\n      <use transform=\"translate(149.462891 0.125)\" xlink:href=\"#DejaVuSans-Oblique-121\"/>\n      <use transform=\"translate(208.642578 0.125)\" xlink:href=\"#DejaVuSans-41\"/>\n     </g>\n    </g>\n   </g>\n  </g>\n </g>\n <defs>\n  <clipPath id=\"pb907c6c0f3\">\n   <rect height=\"217.44\" width=\"334.8\" x=\"38.482813\" y=\"7.2\"/>\n  </clipPath>\n </defs>\n</svg>\n"
          },
          "metadata": {
            "needs_background": "light"
          }
        }
      ]
    },
    {
      "cell_type": "code",
      "metadata": {
        "id": "qR8xXoJZ26CY",
        "outputId": "a0cc21ef-f91f-4abc-8902-4ba560a5a20a",
        "colab": {
          "base_uri": "https://localhost:8080/"
        }
      },
      "source": [
        "we"
      ],
      "execution_count": 4,
      "outputs": [
        {
          "output_type": "execute_result",
          "data": {
            "text/plain": [
              "array([-2.225+0.j,  2.   +0.j])"
            ]
          },
          "metadata": {},
          "execution_count": 4
        }
      ]
    },
    {
      "cell_type": "code",
      "metadata": {
        "id": "bN7ky7k04LxH"
      },
      "source": [
        ""
      ],
      "execution_count": 4,
      "outputs": []
    }
  ]
}